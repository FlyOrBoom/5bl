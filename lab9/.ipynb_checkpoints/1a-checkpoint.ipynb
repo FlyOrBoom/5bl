{
 "cells": [
  {
   "cell_type": "code",
   "execution_count": 24,
   "id": "bdb08fe2-24d2-4bbc-9051-dce19714643c",
   "metadata": {
    "tags": []
   },
   "outputs": [],
   "source": [
    "import numpy as np\n",
    "import matplotlib.pyplot as plt\n",
    "import scipy as sp\n",
    "import pandas as pd\n",
    "import csv"
   ]
  },
  {
   "cell_type": "code",
   "execution_count": 25,
   "id": "b382c25c-7885-46c9-a65c-d4b9c168b317",
   "metadata": {
    "tags": []
   },
   "outputs": [],
   "source": [
    "row_start = 14"
   ]
  },
  {
   "cell_type": "code",
   "execution_count": 26,
   "id": "06b53e57-1561-4a3e-8324-77e5dfc8bfa0",
   "metadata": {
    "tags": []
   },
   "outputs": [
    {
     "data": {
      "text/plain": [
       "{'Model': 'MSO2024B',\n",
       " 'Firmware Version': '1.56',\n",
       " 'Point Format': 'Y',\n",
       " 'Horizontal Units': 'S',\n",
       " 'Horizontal Scale': '0.4',\n",
       " 'Sample Interval': '3.2e-05',\n",
       " 'Filter Frequency': '2e+08',\n",
       " 'Record Length': '125000',\n",
       " 'Gating': '0.0% to 100.0%',\n",
       " 'Probe Attenuation': '1',\n",
       " 'Vertical Units': 'V',\n",
       " 'Vertical Offset': '0',\n",
       " 'Vertical Scale': '2',\n",
       " 'Label': ''}"
      ]
     },
     "execution_count": 26,
     "metadata": {},
     "output_type": "execute_result"
    }
   ],
   "source": [
    "metadata = dict()\n",
    "filename = \"1A.CSV\"\n",
    "with open(filename, newline='') as csvfile:\n",
    "    reader = csv.reader(csvfile)\n",
    "    for (i, row) in enumerate(reader):\n",
    "        if i > row_start: break\n",
    "        if len(row) >= 2: metadata[row[0]] = row[1]\n",
    "metadata"
   ]
  },
  {
   "cell_type": "code",
   "execution_count": 27,
   "id": "bcf01e51-de68-4d19-9d16-f712f0c50dc5",
   "metadata": {
    "tags": []
   },
   "outputs": [
    {
     "data": {
      "text/html": [
       "<div>\n",
       "<style scoped>\n",
       "    .dataframe tbody tr th:only-of-type {\n",
       "        vertical-align: middle;\n",
       "    }\n",
       "\n",
       "    .dataframe tbody tr th {\n",
       "        vertical-align: top;\n",
       "    }\n",
       "\n",
       "    .dataframe thead th {\n",
       "        text-align: right;\n",
       "    }\n",
       "</style>\n",
       "<table border=\"1\" class=\"dataframe\">\n",
       "  <thead>\n",
       "    <tr style=\"text-align: right;\">\n",
       "      <th></th>\n",
       "      <th>TIME</th>\n",
       "      <th>CH1</th>\n",
       "      <th>CH1 Peak Detect</th>\n",
       "      <th>CH2</th>\n",
       "      <th>CH2 Peak Detect</th>\n",
       "    </tr>\n",
       "  </thead>\n",
       "  <tbody>\n",
       "    <tr>\n",
       "      <th>0</th>\n",
       "      <td>-2.00000</td>\n",
       "      <td>9.92</td>\n",
       "      <td>1.008000e+01</td>\n",
       "      <td>9.92</td>\n",
       "      <td>10.00</td>\n",
       "    </tr>\n",
       "    <tr>\n",
       "      <th>1</th>\n",
       "      <td>-1.99997</td>\n",
       "      <td>9.92</td>\n",
       "      <td>9.840000e+00</td>\n",
       "      <td>9.92</td>\n",
       "      <td>9.76</td>\n",
       "    </tr>\n",
       "    <tr>\n",
       "      <th>2</th>\n",
       "      <td>-1.99994</td>\n",
       "      <td>9.92</td>\n",
       "      <td>1.008000e+01</td>\n",
       "      <td>9.92</td>\n",
       "      <td>10.00</td>\n",
       "    </tr>\n",
       "    <tr>\n",
       "      <th>3</th>\n",
       "      <td>-1.99990</td>\n",
       "      <td>9.92</td>\n",
       "      <td>9.840000e+00</td>\n",
       "      <td>9.92</td>\n",
       "      <td>9.76</td>\n",
       "    </tr>\n",
       "    <tr>\n",
       "      <th>4</th>\n",
       "      <td>-1.99987</td>\n",
       "      <td>9.92</td>\n",
       "      <td>1.008000e+01</td>\n",
       "      <td>9.92</td>\n",
       "      <td>10.00</td>\n",
       "    </tr>\n",
       "    <tr>\n",
       "      <th>...</th>\n",
       "      <td>...</td>\n",
       "      <td>...</td>\n",
       "      <td>...</td>\n",
       "      <td>...</td>\n",
       "      <td>...</td>\n",
       "    </tr>\n",
       "    <tr>\n",
       "      <th>124995</th>\n",
       "      <td>1.99984</td>\n",
       "      <td>0.08</td>\n",
       "      <td>-8.583070e-08</td>\n",
       "      <td>0.16</td>\n",
       "      <td>0.08</td>\n",
       "    </tr>\n",
       "    <tr>\n",
       "      <th>124996</th>\n",
       "      <td>1.99987</td>\n",
       "      <td>0.08</td>\n",
       "      <td>1.600000e-01</td>\n",
       "      <td>0.16</td>\n",
       "      <td>0.32</td>\n",
       "    </tr>\n",
       "    <tr>\n",
       "      <th>124997</th>\n",
       "      <td>1.99990</td>\n",
       "      <td>0.08</td>\n",
       "      <td>-8.583070e-08</td>\n",
       "      <td>0.16</td>\n",
       "      <td>0.08</td>\n",
       "    </tr>\n",
       "    <tr>\n",
       "      <th>124998</th>\n",
       "      <td>1.99994</td>\n",
       "      <td>0.08</td>\n",
       "      <td>2.400000e-01</td>\n",
       "      <td>0.16</td>\n",
       "      <td>0.24</td>\n",
       "    </tr>\n",
       "    <tr>\n",
       "      <th>124999</th>\n",
       "      <td>1.99997</td>\n",
       "      <td>0.08</td>\n",
       "      <td>-8.583070e-08</td>\n",
       "      <td>0.16</td>\n",
       "      <td>0.08</td>\n",
       "    </tr>\n",
       "  </tbody>\n",
       "</table>\n",
       "<p>125000 rows × 5 columns</p>\n",
       "</div>"
      ],
      "text/plain": [
       "           TIME   CH1  CH1 Peak Detect   CH2  CH2 Peak Detect\n",
       "0      -2.00000  9.92     1.008000e+01  9.92            10.00\n",
       "1      -1.99997  9.92     9.840000e+00  9.92             9.76\n",
       "2      -1.99994  9.92     1.008000e+01  9.92            10.00\n",
       "3      -1.99990  9.92     9.840000e+00  9.92             9.76\n",
       "4      -1.99987  9.92     1.008000e+01  9.92            10.00\n",
       "...         ...   ...              ...   ...              ...\n",
       "124995  1.99984  0.08    -8.583070e-08  0.16             0.08\n",
       "124996  1.99987  0.08     1.600000e-01  0.16             0.32\n",
       "124997  1.99990  0.08    -8.583070e-08  0.16             0.08\n",
       "124998  1.99994  0.08     2.400000e-01  0.16             0.24\n",
       "124999  1.99997  0.08    -8.583070e-08  0.16             0.08\n",
       "\n",
       "[125000 rows x 5 columns]"
      ]
     },
     "execution_count": 27,
     "metadata": {},
     "output_type": "execute_result"
    }
   ],
   "source": [
    "data = pd.read_csv(filename, delimiter=\",\", header=row_start)\n",
    "data"
   ]
  },
  {
   "cell_type": "code",
   "execution_count": 28,
   "id": "00e1247c-4cbb-46cb-85e4-62ffdfda1952",
   "metadata": {
    "tags": []
   },
   "outputs": [
    {
     "data": {
      "text/plain": [
       "<matplotlib.legend.Legend at 0x7efe890df6d0>"
      ]
     },
     "execution_count": 28,
     "metadata": {},
     "output_type": "execute_result"
    },
    {
     "data": {
      "image/png": "[encoded data removed]",
      "text/plain": [
       "<Figure size 640x480 with 1 Axes>"
      ]
     },
     "metadata": {},
     "output_type": "display_data"
    }
   ],
   "source": [
    "t_raw = data[\"TIME\"]\n",
    "ch1_raw = data[\"CH1\"]\n",
    "ch2_raw = data[\"CH2\"]\n",
    "plt.plot(\n",
    "    t_raw, \n",
    "    ch1_raw,\n",
    "    label=\"Channel 1\"\n",
    ")\n",
    "plt.plot(\n",
    "    t_raw, \n",
    "    ch2_raw,\n",
    "    label=\"Channel 2\"\n",
    ")\n",
    "plt.ylabel(\"Volts\")\n",
    "plt.legend()"
   ]
  },
  {
   "cell_type": "code",
   "execution_count": 29,
   "id": "ca3d17a7-8d02-454a-82c9-5fdb7d90bbdd",
   "metadata": {
    "tags": []
   },
   "outputs": [
    {
     "data": {
      "text/plain": [
       "[<matplotlib.lines.Line2D at 0x7efe8900dbd0>]"
      ]
     },
     "execution_count": 29,
     "metadata": {},
     "output_type": "execute_result"
    },
    {
     "data": {
      "image/png": "[encoded data removed]",
      "text/plain": [
       "<Figure size 640x480 with 1 Axes>"
      ]
     },
     "metadata": {},
     "output_type": "display_data"
    }
   ],
   "source": [
    "t = t_raw[ch1_raw < 1]\n",
    "ch2 = ch2_raw[ch1_raw < 1]\n",
    "plt.plot(t, ch2)"
   ]
  },
  {
   "cell_type": "code",
   "execution_count": 30,
   "id": "6ce485e0-7c94-45dc-809e-04e794b2b82f",
   "metadata": {
    "tags": []
   },
   "outputs": [
    {
     "data": {
      "text/plain": [
       "array([[ 1.22322987e-08,  7.25674426e-09, -1.31702358e-08],\n",
       "       [ 7.25674426e-09,  4.39632823e-09, -7.26830895e-09],\n",
       "       [-1.31702358e-08, -7.26830895e-09,  3.11082270e-08]])"
      ]
     },
     "execution_count": 30,
     "metadata": {},
     "output_type": "execute_result"
    }
   ],
   "source": [
    "model = lambda t, A, RC, z: A * np.exp(-t/RC) + z\n",
    "[A_model, RC_model, z_model], cov = sp.optimize.curve_fit(model, t, ch2)\n",
    "cov"
   ]
  },
  {
   "cell_type": "code",
   "execution_count": 31,
   "id": "e05fe80f-0432-4582-8539-234ccd12d090",
   "metadata": {
    "tags": []
   },
   "outputs": [
    {
     "data": {
      "text/plain": [
       "[<matplotlib.lines.Line2D at 0x7efe89089650>]"
      ]
     },
     "execution_count": 31,
     "metadata": {},
     "output_type": "execute_result"
    },
    {
     "data": {
      "image/png": "[encoded data removed]",
      "text/plain": [
       "<Figure size 640x480 with 1 Axes>"
      ]
     },
     "metadata": {},
     "output_type": "display_data"
    }
   ],
   "source": [
    "plt.plot(t, ch2)\n",
    "plt.plot(t, model(t, A_model, RC_model, z_model))\n"
   ]
  },
  {
   "cell_type": "code",
   "execution_count": null,
   "id": "5f6bda61-c4c4-4f1b-9378-3b9d06f828df",
   "metadata": {},
   "outputs": [],
   "source": []
  }
 ],
 "metadata": {
  "kernelspec": {
   "display_name": "Python 3 (ipykernel)",
   "language": "python",
   "name": "python3"
  },
  "language_info": {
   "codemirror_mode": {
    "name": "ipython",
    "version": 3
   },
   "file_extension": ".py",
   "mimetype": "text/x-python",
   "name": "python",
   "nbconvert_exporter": "python",
   "pygments_lexer": "ipython3",
   "version": "3.11.4"
  }
 },
 "nbformat": 4,
 "nbformat_minor": 5
}
