{
 "cells": [
  {
   "cell_type": "code",
   "execution_count": 28,
   "id": "bdb08fe2-24d2-4bbc-9051-dce19714643c",
   "metadata": {
    "tags": []
   },
   "outputs": [],
   "source": [
    "import numpy as np\n",
    "import matplotlib.pyplot as plt\n",
    "import scipy as sp\n",
    "import pandas as pd\n",
    "import csv"
   ]
  },
  {
   "cell_type": "code",
   "execution_count": 51,
   "id": "b382c25c-7885-46c9-a65c-d4b9c168b317",
   "metadata": {
    "tags": []
   },
   "outputs": [],
   "source": [
    "row_start = 14"
   ]
  },
  {
   "cell_type": "code",
   "execution_count": 52,
   "id": "06b53e57-1561-4a3e-8324-77e5dfc8bfa0",
   "metadata": {
    "tags": []
   },
   "outputs": [
    {
     "data": {
      "text/plain": [
       "{'Model': 'MSO2024B',\n",
       " 'Firmware Version': '1.56',\n",
       " 'Point Format': 'Y',\n",
       " 'Horizontal Units': 'S',\n",
       " 'Horizontal Scale': '0.4',\n",
       " 'Sample Interval': '3.2e-05',\n",
       " 'Filter Frequency': '2e+08',\n",
       " 'Record Length': '125000',\n",
       " 'Gating': '0.0% to 100.0%',\n",
       " 'Probe Attenuation': '1',\n",
       " 'Vertical Units': 'V',\n",
       " 'Vertical Offset': '0',\n",
       " 'Vertical Scale': '2',\n",
       " 'Label': ''}"
      ]
     },
     "execution_count": 52,
     "metadata": {},
     "output_type": "execute_result"
    }
   ],
   "source": [
    "metadata = dict()\n",
    "with open('T0045ALL.CSV', newline='') as csvfile:\n",
    "    reader = csv.reader(csvfile)\n",
    "    for (i, row) in enumerate(reader):\n",
    "        if i > row_start: break\n",
    "        if len(row) >= 2: metadata[row[0]] = row[1]\n",
    "metadata"
   ]
  },
  {
   "cell_type": "code",
   "execution_count": 53,
   "id": "bcf01e51-de68-4d19-9d16-f712f0c50dc5",
   "metadata": {
    "tags": []
   },
   "outputs": [],
   "source": [
    "data = pd.read_csv(\"T0046ALL.CSV\", delimiter=\",\", header=row_start)"
   ]
  },
  {
   "cell_type": "code",
   "execution_count": 54,
   "id": "9b094464-781f-4320-a072-9c08e7dfc841",
   "metadata": {
    "tags": []
   },
   "outputs": [
    {
     "data": {
      "text/html": [
       "<div>\n",
       "<style scoped>\n",
       "    .dataframe tbody tr th:only-of-type {\n",
       "        vertical-align: middle;\n",
       "    }\n",
       "\n",
       "    .dataframe tbody tr th {\n",
       "        vertical-align: top;\n",
       "    }\n",
       "\n",
       "    .dataframe thead th {\n",
       "        text-align: right;\n",
       "    }\n",
       "</style>\n",
       "<table border=\"1\" class=\"dataframe\">\n",
       "  <thead>\n",
       "    <tr style=\"text-align: right;\">\n",
       "      <th></th>\n",
       "      <th>TIME</th>\n",
       "      <th>CH1</th>\n",
       "      <th>CH1 Peak Detect</th>\n",
       "      <th>CH2</th>\n",
       "      <th>CH2 Peak Detect</th>\n",
       "    </tr>\n",
       "  </thead>\n",
       "  <tbody>\n",
       "    <tr>\n",
       "      <th>0</th>\n",
       "      <td>-2.00000</td>\n",
       "      <td>9.92</td>\n",
       "      <td>10.00</td>\n",
       "      <td>2.93</td>\n",
       "      <td>2.97</td>\n",
       "    </tr>\n",
       "    <tr>\n",
       "      <th>1</th>\n",
       "      <td>-1.99997</td>\n",
       "      <td>9.92</td>\n",
       "      <td>9.76</td>\n",
       "      <td>2.93</td>\n",
       "      <td>2.87</td>\n",
       "    </tr>\n",
       "    <tr>\n",
       "      <th>2</th>\n",
       "      <td>-1.99994</td>\n",
       "      <td>9.92</td>\n",
       "      <td>10.00</td>\n",
       "      <td>2.93</td>\n",
       "      <td>2.97</td>\n",
       "    </tr>\n",
       "    <tr>\n",
       "      <th>3</th>\n",
       "      <td>-1.99990</td>\n",
       "      <td>9.92</td>\n",
       "      <td>9.76</td>\n",
       "      <td>2.93</td>\n",
       "      <td>2.87</td>\n",
       "    </tr>\n",
       "    <tr>\n",
       "      <th>4</th>\n",
       "      <td>-1.99987</td>\n",
       "      <td>9.84</td>\n",
       "      <td>10.00</td>\n",
       "      <td>2.93</td>\n",
       "      <td>2.97</td>\n",
       "    </tr>\n",
       "    <tr>\n",
       "      <th>...</th>\n",
       "      <td>...</td>\n",
       "      <td>...</td>\n",
       "      <td>...</td>\n",
       "      <td>...</td>\n",
       "      <td>...</td>\n",
       "    </tr>\n",
       "    <tr>\n",
       "      <th>124995</th>\n",
       "      <td>1.99984</td>\n",
       "      <td>9.92</td>\n",
       "      <td>9.76</td>\n",
       "      <td>2.83</td>\n",
       "      <td>2.77</td>\n",
       "    </tr>\n",
       "    <tr>\n",
       "      <th>124996</th>\n",
       "      <td>1.99987</td>\n",
       "      <td>9.92</td>\n",
       "      <td>10.00</td>\n",
       "      <td>2.83</td>\n",
       "      <td>2.87</td>\n",
       "    </tr>\n",
       "    <tr>\n",
       "      <th>124997</th>\n",
       "      <td>1.99990</td>\n",
       "      <td>9.92</td>\n",
       "      <td>9.76</td>\n",
       "      <td>2.85</td>\n",
       "      <td>2.79</td>\n",
       "    </tr>\n",
       "    <tr>\n",
       "      <th>124998</th>\n",
       "      <td>1.99994</td>\n",
       "      <td>9.92</td>\n",
       "      <td>10.00</td>\n",
       "      <td>2.81</td>\n",
       "      <td>2.87</td>\n",
       "    </tr>\n",
       "    <tr>\n",
       "      <th>124999</th>\n",
       "      <td>1.99997</td>\n",
       "      <td>10.00</td>\n",
       "      <td>9.76</td>\n",
       "      <td>2.83</td>\n",
       "      <td>2.79</td>\n",
       "    </tr>\n",
       "  </tbody>\n",
       "</table>\n",
       "<p>125000 rows × 5 columns</p>\n",
       "</div>"
      ],
      "text/plain": [
       "           TIME    CH1  CH1 Peak Detect   CH2  CH2 Peak Detect\n",
       "0      -2.00000   9.92            10.00  2.93             2.97\n",
       "1      -1.99997   9.92             9.76  2.93             2.87\n",
       "2      -1.99994   9.92            10.00  2.93             2.97\n",
       "3      -1.99990   9.92             9.76  2.93             2.87\n",
       "4      -1.99987   9.84            10.00  2.93             2.97\n",
       "...         ...    ...              ...   ...              ...\n",
       "124995  1.99984   9.92             9.76  2.83             2.77\n",
       "124996  1.99987   9.92            10.00  2.83             2.87\n",
       "124997  1.99990   9.92             9.76  2.85             2.79\n",
       "124998  1.99994   9.92            10.00  2.81             2.87\n",
       "124999  1.99997  10.00             9.76  2.83             2.79\n",
       "\n",
       "[125000 rows x 5 columns]"
      ]
     },
     "execution_count": 54,
     "metadata": {},
     "output_type": "execute_result"
    }
   ],
   "source": [
    "data"
   ]
  },
  {
   "cell_type": "code",
   "execution_count": 38,
   "id": "00e1247c-4cbb-46cb-85e4-62ffdfda1952",
   "metadata": {
    "tags": []
   },
   "outputs": [
    {
     "data": {
      "text/plain": [
       "[<matplotlib.lines.Line2D at 0x7f98297a6750>]"
      ]
     },
     "execution_count": 38,
     "metadata": {},
     "output_type": "execute_result"
    },
    {
     "data": {
      "image/png": "[encoded data removed]",
      "text/plain": [
       "<Figure size 640x480 with 1 Axes>"
      ]
     },
     "metadata": {},
     "output_type": "display_data"
    }
   ],
   "source": [
    "plt.plot(data[\"TIME\"], data[\"CH2\"])"
   ]
  },
  {
   "cell_type": "code",
   "execution_count": null,
   "id": "6ce485e0-7c94-45dc-809e-04e794b2b82f",
   "metadata": {},
   "outputs": [],
   "source": []
  }
 ],
 "metadata": {
  "kernelspec": {
   "display_name": "Python 3 (ipykernel)",
   "language": "python",
   "name": "python3"
  },
  "language_info": {
   "codemirror_mode": {
    "name": "ipython",
    "version": 3
   },
   "file_extension": ".py",
   "mimetype": "text/x-python",
   "name": "python",
   "nbconvert_exporter": "python",
   "pygments_lexer": "ipython3",
   "version": "3.11.4"
  }
 },
 "nbformat": 4,
 "nbformat_minor": 5
}
