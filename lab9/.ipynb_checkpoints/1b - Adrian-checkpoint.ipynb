{
 "cells": [
  {
   "cell_type": "code",
   "execution_count": 45,
   "id": "bdb08fe2-24d2-4bbc-9051-dce19714643c",
   "metadata": {
    "tags": []
   },
   "outputs": [],
   "source": [
    "import numpy as np\n",
    "import matplotlib.pyplot as plt\n",
    "import scipy as sp\n",
    "import pandas as pd\n",
    "import csv"
   ]
  },
  {
   "cell_type": "code",
   "execution_count": 46,
   "id": "b382c25c-7885-46c9-a65c-d4b9c168b317",
   "metadata": {
    "tags": []
   },
   "outputs": [],
   "source": [
    "row_start = 14"
   ]
  },
  {
   "cell_type": "code",
   "execution_count": 47,
   "id": "a128b19c-26f6-4934-9c65-04229ba32698",
   "metadata": {
    "tags": []
   },
   "outputs": [],
   "source": [
    "# metadata = dict()\n",
    "filename = \"1B - Adrian - new.CSV\"\n",
    "with open(filename, newline='') as csvfile:\n",
    "    reader = csv.reader(csvfile)"
   ]
  },
  {
   "cell_type": "code",
   "execution_count": null,
   "id": "efbb5183-6d07-429d-97d1-d1d2be94d91f",
   "metadata": {},
   "outputs": [],
   "source": []
  },
  {
   "cell_type": "code",
   "execution_count": 48,
   "id": "bcf01e51-de68-4d19-9d16-f712f0c50dc5",
   "metadata": {
    "tags": []
   },
   "outputs": [
    {
     "data": {
      "text/html": [
       "<div>\n",
       "<style scoped>\n",
       "    .dataframe tbody tr th:only-of-type {\n",
       "        vertical-align: middle;\n",
       "    }\n",
       "\n",
       "    .dataframe tbody tr th {\n",
       "        vertical-align: top;\n",
       "    }\n",
       "\n",
       "    .dataframe thead th {\n",
       "        text-align: right;\n",
       "    }\n",
       "</style>\n",
       "<table border=\"1\" class=\"dataframe\">\n",
       "  <thead>\n",
       "    <tr style=\"text-align: right;\">\n",
       "      <th></th>\n",
       "      <th>TIME</th>\n",
       "      <th>CH1</th>\n",
       "      <th>CH1 Peak Detect</th>\n",
       "      <th>CH2</th>\n",
       "      <th>CH2 Peak Detect</th>\n",
       "    </tr>\n",
       "  </thead>\n",
       "  <tbody>\n",
       "    <tr>\n",
       "      <th>0</th>\n",
       "      <td>-2.00000</td>\n",
       "      <td>9.88</td>\n",
       "      <td>10.04</td>\n",
       "      <td>1.400</td>\n",
       "      <td>1.400</td>\n",
       "    </tr>\n",
       "    <tr>\n",
       "      <th>1</th>\n",
       "      <td>-1.99997</td>\n",
       "      <td>9.96</td>\n",
       "      <td>9.80</td>\n",
       "      <td>1.400</td>\n",
       "      <td>1.400</td>\n",
       "    </tr>\n",
       "    <tr>\n",
       "      <th>2</th>\n",
       "      <td>-1.99994</td>\n",
       "      <td>9.96</td>\n",
       "      <td>10.04</td>\n",
       "      <td>1.400</td>\n",
       "      <td>1.400</td>\n",
       "    </tr>\n",
       "    <tr>\n",
       "      <th>3</th>\n",
       "      <td>-1.99990</td>\n",
       "      <td>9.88</td>\n",
       "      <td>9.80</td>\n",
       "      <td>1.400</td>\n",
       "      <td>1.400</td>\n",
       "    </tr>\n",
       "    <tr>\n",
       "      <th>4</th>\n",
       "      <td>-1.99987</td>\n",
       "      <td>9.88</td>\n",
       "      <td>10.04</td>\n",
       "      <td>1.400</td>\n",
       "      <td>1.400</td>\n",
       "    </tr>\n",
       "    <tr>\n",
       "      <th>...</th>\n",
       "      <td>...</td>\n",
       "      <td>...</td>\n",
       "      <td>...</td>\n",
       "      <td>...</td>\n",
       "      <td>...</td>\n",
       "    </tr>\n",
       "    <tr>\n",
       "      <th>124995</th>\n",
       "      <td>1.99984</td>\n",
       "      <td>0.12</td>\n",
       "      <td>-0.04</td>\n",
       "      <td>0.032</td>\n",
       "      <td>0.016</td>\n",
       "    </tr>\n",
       "    <tr>\n",
       "      <th>124996</th>\n",
       "      <td>1.99987</td>\n",
       "      <td>0.12</td>\n",
       "      <td>0.20</td>\n",
       "      <td>0.032</td>\n",
       "      <td>0.056</td>\n",
       "    </tr>\n",
       "    <tr>\n",
       "      <th>124997</th>\n",
       "      <td>1.99990</td>\n",
       "      <td>0.04</td>\n",
       "      <td>-0.04</td>\n",
       "      <td>0.032</td>\n",
       "      <td>0.016</td>\n",
       "    </tr>\n",
       "    <tr>\n",
       "      <th>124998</th>\n",
       "      <td>1.99994</td>\n",
       "      <td>0.04</td>\n",
       "      <td>0.20</td>\n",
       "      <td>0.032</td>\n",
       "      <td>0.056</td>\n",
       "    </tr>\n",
       "    <tr>\n",
       "      <th>124999</th>\n",
       "      <td>1.99997</td>\n",
       "      <td>0.12</td>\n",
       "      <td>-0.04</td>\n",
       "      <td>0.040</td>\n",
       "      <td>0.016</td>\n",
       "    </tr>\n",
       "  </tbody>\n",
       "</table>\n",
       "<p>125000 rows × 5 columns</p>\n",
       "</div>"
      ],
      "text/plain": [
       "           TIME   CH1  CH1 Peak Detect    CH2  CH2 Peak Detect\n",
       "0      -2.00000  9.88            10.04  1.400            1.400\n",
       "1      -1.99997  9.96             9.80  1.400            1.400\n",
       "2      -1.99994  9.96            10.04  1.400            1.400\n",
       "3      -1.99990  9.88             9.80  1.400            1.400\n",
       "4      -1.99987  9.88            10.04  1.400            1.400\n",
       "...         ...   ...              ...    ...              ...\n",
       "124995  1.99984  0.12            -0.04  0.032            0.016\n",
       "124996  1.99987  0.12             0.20  0.032            0.056\n",
       "124997  1.99990  0.04            -0.04  0.032            0.016\n",
       "124998  1.99994  0.04             0.20  0.032            0.056\n",
       "124999  1.99997  0.12            -0.04  0.040            0.016\n",
       "\n",
       "[125000 rows x 5 columns]"
      ]
     },
     "execution_count": 48,
     "metadata": {},
     "output_type": "execute_result"
    }
   ],
   "source": [
    "data = pd.read_csv(filename, delimiter=\",\", header=row_start)\n",
    "data"
   ]
  },
  {
   "cell_type": "code",
   "execution_count": 53,
   "id": "ebcaf12d-427b-4b66-926d-3ff5ff940d32",
   "metadata": {},
   "outputs": [],
   "source": [
    "t = data[\"TIME\"]\n",
    "ch1 = data[\"CH1\"]\n",
    "ch2 = data[\"CH2\"]\n",
    "t = t[ch1 < 1]\n",
    "ch2 = ch2[ch1 < 1]\n",
    "#ch2 = ch2[t > -1.55]\n",
    "#t = t[t > -1.55]"
   ]
  },
  {
   "cell_type": "code",
   "execution_count": 54,
   "id": "00e1247c-4cbb-46cb-85e4-62ffdfda1952",
   "metadata": {
    "tags": []
   },
   "outputs": [
    {
     "data": {
      "text/plain": [
       "Text(0.5, 0, 'Time (s)')"
      ]
     },
     "execution_count": 54,
     "metadata": {},
     "output_type": "execute_result"
    },
    {
     "data": {
      "image/png": "[encoded data removed]",
      "text/plain": [
       "<Figure size 640x480 with 1 Axes>"
      ]
     },
     "metadata": {},
     "output_type": "display_data"
    }
   ],
   "source": [
    "plt.plot(t, ch2)\n",
    "plt.ylabel(\"Volts (V)\")\n",
    "plt.xlabel(\"Time (s)\")"
   ]
  },
  {
   "cell_type": "code",
   "execution_count": 55,
   "id": "6ce485e0-7c94-45dc-809e-04e794b2b82f",
   "metadata": {},
   "outputs": [
    {
     "name": "stdout",
     "output_type": "stream",
     "text": [
      "0.0034145909464679417 0.39190753728798816 0.04561376256488896\n"
     ]
    },
    {
     "data": {
      "image/png": "[encoded data removed]",
      "text/plain": [
       "<Figure size 640x480 with 1 Axes>"
      ]
     },
     "metadata": {},
     "output_type": "display_data"
    }
   ],
   "source": [
    "model = lambda t, A1, RC1, z: A1 * np.exp(-t/RC1) + z\n",
    "[A1_model, RC1_model, z_model], cov = sp.optimize.curve_fit(model, t, ch2, p0=[0.3, 1.1, 0.2])\n",
    "plt.plot(t, ch2)\n",
    "plt.plot(t, model(t, A1_model, RC1_model, z_model))\n",
    "print(A1_model, RC1_model, z_model)"
   ]
  },
  {
   "cell_type": "code",
   "execution_count": 56,
   "id": "f079b279-5242-423e-97e7-131ee5191d82",
   "metadata": {},
   "outputs": [],
   "source": [
    "# metadata = dict()\n",
    "filename = \"1B - Xing - new.CSV\"\n",
    "with open(filename, newline='') as csvfile:\n",
    "    reader = csv.reader(csvfile)"
   ]
  },
  {
   "cell_type": "code",
   "execution_count": 57,
   "id": "84de2b14-61e3-4775-b4dc-ef621e0a46a2",
   "metadata": {},
   "outputs": [
    {
     "data": {
      "text/html": [
       "<div>\n",
       "<style scoped>\n",
       "    .dataframe tbody tr th:only-of-type {\n",
       "        vertical-align: middle;\n",
       "    }\n",
       "\n",
       "    .dataframe tbody tr th {\n",
       "        vertical-align: top;\n",
       "    }\n",
       "\n",
       "    .dataframe thead th {\n",
       "        text-align: right;\n",
       "    }\n",
       "</style>\n",
       "<table border=\"1\" class=\"dataframe\">\n",
       "  <thead>\n",
       "    <tr style=\"text-align: right;\">\n",
       "      <th></th>\n",
       "      <th>TIME</th>\n",
       "      <th>CH1</th>\n",
       "      <th>CH1 Peak Detect</th>\n",
       "      <th>CH2</th>\n",
       "      <th>CH2 Peak Detect</th>\n",
       "    </tr>\n",
       "  </thead>\n",
       "  <tbody>\n",
       "    <tr>\n",
       "      <th>0</th>\n",
       "      <td>-2.00000</td>\n",
       "      <td>9.88</td>\n",
       "      <td>10.04</td>\n",
       "      <td>1.224</td>\n",
       "      <td>1.240</td>\n",
       "    </tr>\n",
       "    <tr>\n",
       "      <th>1</th>\n",
       "      <td>-1.99997</td>\n",
       "      <td>9.88</td>\n",
       "      <td>9.80</td>\n",
       "      <td>1.216</td>\n",
       "      <td>1.184</td>\n",
       "    </tr>\n",
       "    <tr>\n",
       "      <th>2</th>\n",
       "      <td>-1.99994</td>\n",
       "      <td>9.88</td>\n",
       "      <td>9.96</td>\n",
       "      <td>1.208</td>\n",
       "      <td>1.240</td>\n",
       "    </tr>\n",
       "    <tr>\n",
       "      <th>3</th>\n",
       "      <td>-1.99990</td>\n",
       "      <td>9.88</td>\n",
       "      <td>9.80</td>\n",
       "      <td>1.216</td>\n",
       "      <td>1.192</td>\n",
       "    </tr>\n",
       "    <tr>\n",
       "      <th>4</th>\n",
       "      <td>-1.99987</td>\n",
       "      <td>9.88</td>\n",
       "      <td>10.04</td>\n",
       "      <td>1.216</td>\n",
       "      <td>1.240</td>\n",
       "    </tr>\n",
       "    <tr>\n",
       "      <th>...</th>\n",
       "      <td>...</td>\n",
       "      <td>...</td>\n",
       "      <td>...</td>\n",
       "      <td>...</td>\n",
       "      <td>...</td>\n",
       "    </tr>\n",
       "    <tr>\n",
       "      <th>124995</th>\n",
       "      <td>1.99984</td>\n",
       "      <td>0.04</td>\n",
       "      <td>-0.04</td>\n",
       "      <td>0.104</td>\n",
       "      <td>0.080</td>\n",
       "    </tr>\n",
       "    <tr>\n",
       "      <th>124996</th>\n",
       "      <td>1.99987</td>\n",
       "      <td>0.12</td>\n",
       "      <td>0.20</td>\n",
       "      <td>0.104</td>\n",
       "      <td>0.128</td>\n",
       "    </tr>\n",
       "    <tr>\n",
       "      <th>124997</th>\n",
       "      <td>1.99990</td>\n",
       "      <td>0.04</td>\n",
       "      <td>-0.04</td>\n",
       "      <td>0.104</td>\n",
       "      <td>0.072</td>\n",
       "    </tr>\n",
       "    <tr>\n",
       "      <th>124998</th>\n",
       "      <td>1.99994</td>\n",
       "      <td>0.12</td>\n",
       "      <td>0.20</td>\n",
       "      <td>0.104</td>\n",
       "      <td>0.136</td>\n",
       "    </tr>\n",
       "    <tr>\n",
       "      <th>124999</th>\n",
       "      <td>1.99997</td>\n",
       "      <td>0.04</td>\n",
       "      <td>-0.04</td>\n",
       "      <td>0.112</td>\n",
       "      <td>0.072</td>\n",
       "    </tr>\n",
       "  </tbody>\n",
       "</table>\n",
       "<p>125000 rows × 5 columns</p>\n",
       "</div>"
      ],
      "text/plain": [
       "           TIME   CH1  CH1 Peak Detect    CH2  CH2 Peak Detect\n",
       "0      -2.00000  9.88            10.04  1.224            1.240\n",
       "1      -1.99997  9.88             9.80  1.216            1.184\n",
       "2      -1.99994  9.88             9.96  1.208            1.240\n",
       "3      -1.99990  9.88             9.80  1.216            1.192\n",
       "4      -1.99987  9.88            10.04  1.216            1.240\n",
       "...         ...   ...              ...    ...              ...\n",
       "124995  1.99984  0.04            -0.04  0.104            0.080\n",
       "124996  1.99987  0.12             0.20  0.104            0.128\n",
       "124997  1.99990  0.04            -0.04  0.104            0.072\n",
       "124998  1.99994  0.12             0.20  0.104            0.136\n",
       "124999  1.99997  0.04            -0.04  0.112            0.072\n",
       "\n",
       "[125000 rows x 5 columns]"
      ]
     },
     "execution_count": 57,
     "metadata": {},
     "output_type": "execute_result"
    }
   ],
   "source": [
    "data = pd.read_csv(filename, delimiter=\",\", header=row_start)\n",
    "data"
   ]
  },
  {
   "cell_type": "code",
   "execution_count": 58,
   "id": "f4c27fe2-2aa4-41d2-bb7d-7ae6a5cb59cf",
   "metadata": {},
   "outputs": [],
   "source": [
    "t = data[\"TIME\"]\n",
    "ch1 = data[\"CH1\"]\n",
    "ch2 = data[\"CH2\"]\n",
    "t = t[ch1 < 1]\n",
    "ch2 = ch2[ch1 < 1]"
   ]
  },
  {
   "cell_type": "code",
   "execution_count": 59,
   "id": "c3eb323b-ba1d-4017-b256-bc5e3184d2c4",
   "metadata": {},
   "outputs": [
    {
     "data": {
      "text/plain": [
       "Text(0.5, 0, 'Time (s)')"
      ]
     },
     "execution_count": 59,
     "metadata": {},
     "output_type": "execute_result"
    },
    {
     "data": {
      "image/png": "[encoded data removed]",
      "text/plain": [
       "<Figure size 640x480 with 1 Axes>"
      ]
     },
     "metadata": {},
     "output_type": "display_data"
    }
   ],
   "source": [
    "plt.plot(t, ch2)\n",
    "plt.ylabel(\"Volts (V)\")\n",
    "plt.xlabel(\"Time (s)\")"
   ]
  },
  {
   "cell_type": "code",
   "execution_count": 62,
   "id": "9089c753-4408-4cd6-bdd8-ceba14dedf88",
   "metadata": {},
   "outputs": [
    {
     "name": "stdout",
     "output_type": "stream",
     "text": [
      "0.011884242339010158 0.5277161451849051 0.13967833950598516\n"
     ]
    },
    {
     "data": {
      "image/png": "[encoded data removed]",
      "text/plain": [
       "<Figure size 640x480 with 1 Axes>"
      ]
     },
     "metadata": {},
     "output_type": "display_data"
    }
   ],
   "source": [
    "model = lambda t, A1, RC1, z: A1 * np.exp(-t/RC1) + z\n",
    "[A1_model, RC1_model, z_model], cov = sp.optimize.curve_fit(model, t, ch2, p0=[0.3, 1.1, 0.2])\n",
    "plt.plot(t, ch2)\n",
    "plt.plot(t, model(t, A1_model, RC1_model, z_model))\n",
    "print(A1_model, RC1_model, z_model)"
   ]
  },
  {
   "cell_type": "code",
   "execution_count": null,
   "id": "19bf9faf-36f1-4f5f-b16a-79194124ea82",
   "metadata": {},
   "outputs": [],
   "source": []
  }
 ],
 "metadata": {
  "kernelspec": {
   "display_name": "Python 3 (ipykernel)",
   "language": "python",
   "name": "python3"
  },
  "language_info": {
   "codemirror_mode": {
    "name": "ipython",
    "version": 3
   },
   "file_extension": ".py",
   "mimetype": "text/x-python",
   "name": "python",
   "nbconvert_exporter": "python",
   "pygments_lexer": "ipython3",
   "version": "3.11.8"
  }
 },
 "nbformat": 4,
 "nbformat_minor": 5
}
