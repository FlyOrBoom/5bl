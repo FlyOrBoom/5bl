{
 "cells": [
  {
   "cell_type": "code",
   "execution_count": 1,
   "id": "48e9a28d-f0d3-444d-97c9-f54c08f7c728",
   "metadata": {},
   "outputs": [],
   "source": [
    "import numpy as np\n",
    "import matplotlib.pyplot as plt\n",
    "import scipy as sp\n",
    "import pandas as pd\n",
    "import csv"
   ]
  },
  {
   "cell_type": "code",
   "execution_count": null,
   "id": "e5dbfd80-7952-46af-ba6a-564e46ce04b5",
   "metadata": {},
   "outputs": [],
   "source": []
  },
  {
   "cell_type": "code",
   "execution_count": 4,
   "id": "9a4c6c71-95c9-40f1-8b6d-a697065aa41c",
   "metadata": {
    "tags": []
   },
   "outputs": [
    {
     "data": {
      "text/html": [
       "<div>\n",
       "<style scoped>\n",
       "    .dataframe tbody tr th:only-of-type {\n",
       "        vertical-align: middle;\n",
       "    }\n",
       "\n",
       "    .dataframe tbody tr th {\n",
       "        vertical-align: top;\n",
       "    }\n",
       "\n",
       "    .dataframe thead th {\n",
       "        text-align: right;\n",
       "    }\n",
       "</style>\n",
       "<table border=\"1\" class=\"dataframe\">\n",
       "  <thead>\n",
       "    <tr style=\"text-align: right;\">\n",
       "      <th></th>\n",
       "      <th>Frequency (Hz)</th>\n",
       "      <th>V0 (V)</th>\n",
       "      <th>Vc (V)</th>\n",
       "      <th>Phase shift (ms)</th>\n",
       "    </tr>\n",
       "  </thead>\n",
       "  <tbody>\n",
       "    <tr>\n",
       "      <th>0</th>\n",
       "      <td>100</td>\n",
       "      <td>3.98</td>\n",
       "      <td>3.340</td>\n",
       "      <td>-1.000</td>\n",
       "    </tr>\n",
       "    <tr>\n",
       "      <th>1</th>\n",
       "      <td>200</td>\n",
       "      <td>3.92</td>\n",
       "      <td>2.420</td>\n",
       "      <td>-0.740</td>\n",
       "    </tr>\n",
       "    <tr>\n",
       "      <th>2</th>\n",
       "      <td>300</td>\n",
       "      <td>3.88</td>\n",
       "      <td>1.800</td>\n",
       "      <td>-0.608</td>\n",
       "    </tr>\n",
       "    <tr>\n",
       "      <th>3</th>\n",
       "      <td>400</td>\n",
       "      <td>3.86</td>\n",
       "      <td>1.400</td>\n",
       "      <td>-0.520</td>\n",
       "    </tr>\n",
       "    <tr>\n",
       "      <th>4</th>\n",
       "      <td>1000</td>\n",
       "      <td>3.84</td>\n",
       "      <td>0.610</td>\n",
       "      <td>-0.232</td>\n",
       "    </tr>\n",
       "    <tr>\n",
       "      <th>5</th>\n",
       "      <td>2000</td>\n",
       "      <td>3.84</td>\n",
       "      <td>0.308</td>\n",
       "      <td>-0.120</td>\n",
       "    </tr>\n",
       "    <tr>\n",
       "      <th>6</th>\n",
       "      <td>5000</td>\n",
       "      <td>3.88</td>\n",
       "      <td>0.124</td>\n",
       "      <td>-0.050</td>\n",
       "    </tr>\n",
       "  </tbody>\n",
       "</table>\n",
       "</div>"
      ],
      "text/plain": [
       "   Frequency (Hz)  V0 (V)  Vc (V)  Phase shift (ms)\n",
       "0             100    3.98   3.340            -1.000\n",
       "1             200    3.92   2.420            -0.740\n",
       "2             300    3.88   1.800            -0.608\n",
       "3             400    3.86   1.400            -0.520\n",
       "4            1000    3.84   0.610            -0.232\n",
       "5            2000    3.84   0.308            -0.120\n",
       "6            5000    3.88   0.124            -0.050"
      ]
     },
     "execution_count": 4,
     "metadata": {},
     "output_type": "execute_result"
    }
   ],
   "source": [
    "data = pd.read_csv(\"1.csv\")\n",
    "data"
   ]
  },
  {
   "cell_type": "code",
   "execution_count": 7,
   "id": "bbd54cbb-56c0-4b21-9703-77b655114787",
   "metadata": {
    "tags": []
   },
   "outputs": [
    {
     "data": {
      "text/plain": [
       "(0    3.98\n",
       " 1    3.92\n",
       " 2    3.88\n",
       " 3    3.86\n",
       " 4    3.84\n",
       " 5    3.84\n",
       " 6    3.88\n",
       " Name: V0 (V), dtype: float64,\n",
       " 0      628.318531\n",
       " 1     1256.637061\n",
       " 2     1884.955592\n",
       " 3     2513.274123\n",
       " 4     6283.185307\n",
       " 5    12566.370614\n",
       " 6    31415.926536\n",
       " Name: Frequency (Hz), dtype: float64)"
      ]
     },
     "execution_count": 7,
     "metadata": {},
     "output_type": "execute_result"
    }
   ],
   "source": [
    "v0 = data[\"V0 (V)\"]\n",
    "vc = data[\"Vc (V)\"]\n",
    "omega = data[\"Frequency (Hz)\"] * 2 * np.pi\n",
    "\n",
    "v0, omega"
   ]
  },
  {
   "cell_type": "code",
   "execution_count": 13,
   "id": "03e6993d-04f2-4c04-90c4-7809dd94cd67",
   "metadata": {
    "tags": []
   },
   "outputs": [
    {
     "data": {
      "text/plain": [
       "[<matplotlib.lines.Line2D at 0x7f8839885850>]"
      ]
     },
     "execution_count": 13,
     "metadata": {},
     "output_type": "execute_result"
    },
    {
     "data": {
      "image/png": "[encoded data removed]",
      "text/plain": [
       "<Figure size 640x480 with 1 Axes>"
      ]
     },
     "metadata": {},
     "output_type": "display_data"
    }
   ],
   "source": [
    "plt.xlabel(\"Log(angular frequency * s)\")\n",
    "plt.ylabel(\"Log(Vc/V0)\")\n",
    "plt.plot( np.log(omega), np.log(vc/v0) )"
   ]
  },
  {
   "cell_type": "code",
   "execution_count": 21,
   "id": "6268bbaf-df26-4bc2-8ac3-9c741fb5fb86",
   "metadata": {
    "tags": []
   },
   "outputs": [],
   "source": [
    "def model(omega, A, tau):\n",
    "    return A / np.sqrt(1 + (omega*tau)**2) # vc/v0"
   ]
  },
  {
   "cell_type": "code",
   "execution_count": 22,
   "id": "4cfc102a-e820-4a19-8156-f82acc7e5d1a",
   "metadata": {
    "tags": []
   },
   "outputs": [
    {
     "data": {
      "text/plain": [
       "(array([ 0.99208451, -0.00100312]),\n",
       " array([[ 1.95170313e-05, -3.19873943e-08],\n",
       "        [-3.19873943e-08,  6.33384949e-11]]))"
      ]
     },
     "execution_count": 22,
     "metadata": {},
     "output_type": "execute_result"
    }
   ],
   "source": [
    "fit = sp.optimize.curve_fit(model, omega, vc/v0)\n",
    "fit"
   ]
  },
  {
   "cell_type": "code",
   "execution_count": 31,
   "id": "7f85229f-533e-4bd5-a22b-dcfd2ec4f153",
   "metadata": {
    "tags": []
   },
   "outputs": [
    {
     "data": {
      "text/plain": [
       "(0.9920845084561557, -0.001003118780280245)"
      ]
     },
     "execution_count": 31,
     "metadata": {},
     "output_type": "execute_result"
    }
   ],
   "source": [
    "[A_fit, tau_fit], cov = fit\n",
    "\n",
    "A_fit, tau_fit"
   ]
  },
  {
   "cell_type": "code",
   "execution_count": 32,
   "id": "c223271f-a2f9-4dbc-bbdd-bcb06564774b",
   "metadata": {
    "tags": []
   },
   "outputs": [
    {
     "data": {
      "text/plain": [
       "[<matplotlib.lines.Line2D at 0x7f883785d4d0>]"
      ]
     },
     "execution_count": 32,
     "metadata": {},
     "output_type": "execute_result"
    },
    {
     "data": {
      "image/png": "[encoded data removed]",
      "text/plain": [
       "<Figure size 640x480 with 1 Axes>"
      ]
     },
     "metadata": {},
     "output_type": "display_data"
    }
   ],
   "source": [
    "plt.xlabel(\"Log(angular frequency * s)\")\n",
    "plt.ylabel(\"Log(Vc/V0)\")\n",
    "plt.plot( np.log(omega), np.log(vc/v0) )\n",
    "plt.plot( np.log(omega), np.log( model(omega, A_fit, tau_fit) ) )"
   ]
  },
  {
   "cell_type": "code",
   "execution_count": 37,
   "id": "76b49d59-68ab-46ec-a887-2d07d24e7ec1",
   "metadata": {
    "tags": []
   },
   "outputs": [
    {
     "data": {
      "text/plain": [
       "(0.004417808426358619, 7.958548542796575e-06)"
      ]
     },
     "execution_count": 37,
     "metadata": {},
     "output_type": "execute_result"
    }
   ],
   "source": [
    "[A_error, tau_error] = np.sqrt(np.diagonal(cov))\n",
    "A_error, tau_error"
   ]
  },
  {
   "cell_type": "code",
   "execution_count": 15,
   "id": "064893de-8999-497f-9604-06c7c7ece33f",
   "metadata": {
    "tags": []
   },
   "outputs": [
    {
     "data": {
      "text/plain": [
       "\u001b[0;31mSignature:\u001b[0m\n",
       "\u001b[0msp\u001b[0m\u001b[0;34m.\u001b[0m\u001b[0moptimize\u001b[0m\u001b[0;34m.\u001b[0m\u001b[0mcurve_fit\u001b[0m\u001b[0;34m(\u001b[0m\u001b[0;34m\u001b[0m\n",
       "\u001b[0;34m\u001b[0m    \u001b[0mf\u001b[0m\u001b[0;34m,\u001b[0m\u001b[0;34m\u001b[0m\n",
       "\u001b[0;34m\u001b[0m    \u001b[0mxdata\u001b[0m\u001b[0;34m,\u001b[0m\u001b[0;34m\u001b[0m\n",
       "\u001b[0;34m\u001b[0m    \u001b[0mydata\u001b[0m\u001b[0;34m,\u001b[0m\u001b[0;34m\u001b[0m\n",
       "\u001b[0;34m\u001b[0m    \u001b[0mp0\u001b[0m\u001b[0;34m=\u001b[0m\u001b[0;32mNone\u001b[0m\u001b[0;34m,\u001b[0m\u001b[0;34m\u001b[0m\n",
       "\u001b[0;34m\u001b[0m    \u001b[0msigma\u001b[0m\u001b[0;34m=\u001b[0m\u001b[0;32mNone\u001b[0m\u001b[0;34m,\u001b[0m\u001b[0;34m\u001b[0m\n",
       "\u001b[0;34m\u001b[0m    \u001b[0mabsolute_sigma\u001b[0m\u001b[0;34m=\u001b[0m\u001b[0;32mFalse\u001b[0m\u001b[0;34m,\u001b[0m\u001b[0;34m\u001b[0m\n",
       "\u001b[0;34m\u001b[0m    \u001b[0mcheck_finite\u001b[0m\u001b[0;34m=\u001b[0m\u001b[0;32mTrue\u001b[0m\u001b[0;34m,\u001b[0m\u001b[0;34m\u001b[0m\n",
       "\u001b[0;34m\u001b[0m    \u001b[0mbounds\u001b[0m\u001b[0;34m=\u001b[0m\u001b[0;34m(\u001b[0m\u001b[0;34m-\u001b[0m\u001b[0minf\u001b[0m\u001b[0;34m,\u001b[0m \u001b[0minf\u001b[0m\u001b[0;34m)\u001b[0m\u001b[0;34m,\u001b[0m\u001b[0;34m\u001b[0m\n",
       "\u001b[0;34m\u001b[0m    \u001b[0mmethod\u001b[0m\u001b[0;34m=\u001b[0m\u001b[0;32mNone\u001b[0m\u001b[0;34m,\u001b[0m\u001b[0;34m\u001b[0m\n",
       "\u001b[0;34m\u001b[0m    \u001b[0mjac\u001b[0m\u001b[0;34m=\u001b[0m\u001b[0;32mNone\u001b[0m\u001b[0;34m,\u001b[0m\u001b[0;34m\u001b[0m\n",
       "\u001b[0;34m\u001b[0m    \u001b[0;34m*\u001b[0m\u001b[0;34m,\u001b[0m\u001b[0;34m\u001b[0m\n",
       "\u001b[0;34m\u001b[0m    \u001b[0mfull_output\u001b[0m\u001b[0;34m=\u001b[0m\u001b[0;32mFalse\u001b[0m\u001b[0;34m,\u001b[0m\u001b[0;34m\u001b[0m\n",
       "\u001b[0;34m\u001b[0m    \u001b[0;34m**\u001b[0m\u001b[0mkwargs\u001b[0m\u001b[0;34m,\u001b[0m\u001b[0;34m\u001b[0m\n",
       "\u001b[0;34m\u001b[0m\u001b[0;34m)\u001b[0m\u001b[0;34m\u001b[0m\u001b[0;34m\u001b[0m\u001b[0m\n",
       "\u001b[0;31mDocstring:\u001b[0m\n",
       "Use non-linear least squares to fit a function, f, to data.\n",
       "\n",
       "Assumes ``ydata = f(xdata, *params) + eps``.\n",
       "\n",
       "Parameters\n",
       "----------\n",
       "f : callable\n",
       "    The model function, f(x, ...). It must take the independent\n",
       "    variable as the first argument and the parameters to fit as\n",
       "    separate remaining arguments.\n",
       "xdata : array_like\n",
       "    The independent variable where the data is measured.\n",
       "    Should usually be an M-length sequence or an (k,M)-shaped array for\n",
       "    functions with k predictors, and each element should be float\n",
       "    convertible if it is an array like object.\n",
       "ydata : array_like\n",
       "    The dependent data, a length M array - nominally ``f(xdata, ...)``.\n",
       "p0 : array_like, optional\n",
       "    Initial guess for the parameters (length N). If None, then the\n",
       "    initial values will all be 1 (if the number of parameters for the\n",
       "    function can be determined using introspection, otherwise a\n",
       "    ValueError is raised).\n",
       "sigma : None or M-length sequence or MxM array, optional\n",
       "    Determines the uncertainty in `ydata`. If we define residuals as\n",
       "    ``r = ydata - f(xdata, *popt)``, then the interpretation of `sigma`\n",
       "    depends on its number of dimensions:\n",
       "\n",
       "        - A 1-D `sigma` should contain values of standard deviations of\n",
       "          errors in `ydata`. In this case, the optimized function is\n",
       "          ``chisq = sum((r / sigma) ** 2)``.\n",
       "\n",
       "        - A 2-D `sigma` should contain the covariance matrix of\n",
       "          errors in `ydata`. In this case, the optimized function is\n",
       "          ``chisq = r.T @ inv(sigma) @ r``.\n",
       "\n",
       "          .. versionadded:: 0.19\n",
       "\n",
       "    None (default) is equivalent of 1-D `sigma` filled with ones.\n",
       "absolute_sigma : bool, optional\n",
       "    If True, `sigma` is used in an absolute sense and the estimated parameter\n",
       "    covariance `pcov` reflects these absolute values.\n",
       "\n",
       "    If False (default), only the relative magnitudes of the `sigma` values matter.\n",
       "    The returned parameter covariance matrix `pcov` is based on scaling\n",
       "    `sigma` by a constant factor. This constant is set by demanding that the\n",
       "    reduced `chisq` for the optimal parameters `popt` when using the\n",
       "    *scaled* `sigma` equals unity. In other words, `sigma` is scaled to\n",
       "    match the sample variance of the residuals after the fit. Default is False.\n",
       "    Mathematically,\n",
       "    ``pcov(absolute_sigma=False) = pcov(absolute_sigma=True) * chisq(popt)/(M-N)``\n",
       "check_finite : bool, optional\n",
       "    If True, check that the input arrays do not contain nans of infs,\n",
       "    and raise a ValueError if they do. Setting this parameter to\n",
       "    False may silently produce nonsensical results if the input arrays\n",
       "    do contain nans. Default is True.\n",
       "bounds : 2-tuple of array_like or `Bounds`, optional\n",
       "    Lower and upper bounds on parameters. Defaults to no bounds.\n",
       "    There are two ways to specify the bounds:\n",
       "\n",
       "        - Instance of `Bounds` class.\n",
       "\n",
       "        - 2-tuple of array_like: Each element of the tuple must be either\n",
       "          an array with the length equal to the number of parameters, or a\n",
       "          scalar (in which case the bound is taken to be the same for all\n",
       "          parameters). Use ``np.inf`` with an appropriate sign to disable\n",
       "          bounds on all or some parameters.\n",
       "\n",
       "method : {'lm', 'trf', 'dogbox'}, optional\n",
       "    Method to use for optimization. See `least_squares` for more details.\n",
       "    Default is 'lm' for unconstrained problems and 'trf' if `bounds` are\n",
       "    provided. The method 'lm' won't work when the number of observations\n",
       "    is less than the number of variables, use 'trf' or 'dogbox' in this\n",
       "    case.\n",
       "\n",
       "    .. versionadded:: 0.17\n",
       "jac : callable, string or None, optional\n",
       "    Function with signature ``jac(x, ...)`` which computes the Jacobian\n",
       "    matrix of the model function with respect to parameters as a dense\n",
       "    array_like structure. It will be scaled according to provided `sigma`.\n",
       "    If None (default), the Jacobian will be estimated numerically.\n",
       "    String keywords for 'trf' and 'dogbox' methods can be used to select\n",
       "    a finite difference scheme, see `least_squares`.\n",
       "\n",
       "    .. versionadded:: 0.18\n",
       "full_output : boolean, optional\n",
       "    If True, this function returns additioal information: `infodict`,\n",
       "    `mesg`, and `ier`.\n",
       "\n",
       "    .. versionadded:: 1.9\n",
       "**kwargs\n",
       "    Keyword arguments passed to `leastsq` for ``method='lm'`` or\n",
       "    `least_squares` otherwise.\n",
       "\n",
       "Returns\n",
       "-------\n",
       "popt : array\n",
       "    Optimal values for the parameters so that the sum of the squared\n",
       "    residuals of ``f(xdata, *popt) - ydata`` is minimized.\n",
       "pcov : 2-D array\n",
       "    The estimated covariance of popt. The diagonals provide the variance\n",
       "    of the parameter estimate. To compute one standard deviation errors\n",
       "    on the parameters use ``perr = np.sqrt(np.diag(pcov))``.\n",
       "\n",
       "    How the `sigma` parameter affects the estimated covariance\n",
       "    depends on `absolute_sigma` argument, as described above.\n",
       "\n",
       "    If the Jacobian matrix at the solution doesn't have a full rank, then\n",
       "    'lm' method returns a matrix filled with ``np.inf``, on the other hand\n",
       "    'trf'  and 'dogbox' methods use Moore-Penrose pseudoinverse to compute\n",
       "    the covariance matrix.\n",
       "infodict : dict (returned only if `full_output` is True)\n",
       "    a dictionary of optional outputs with the keys:\n",
       "\n",
       "    ``nfev``\n",
       "        The number of function calls. Methods 'trf' and 'dogbox' do not\n",
       "        count function calls for numerical Jacobian approximation,\n",
       "        as opposed to 'lm' method.\n",
       "    ``fvec``\n",
       "        The function values evaluated at the solution.\n",
       "    ``fjac``\n",
       "        A permutation of the R matrix of a QR\n",
       "        factorization of the final approximate\n",
       "        Jacobian matrix, stored column wise.\n",
       "        Together with ipvt, the covariance of the\n",
       "        estimate can be approximated.\n",
       "        Method 'lm' only provides this information.\n",
       "    ``ipvt``\n",
       "        An integer array of length N which defines\n",
       "        a permutation matrix, p, such that\n",
       "        fjac*p = q*r, where r is upper triangular\n",
       "        with diagonal elements of nonincreasing\n",
       "        magnitude. Column j of p is column ipvt(j)\n",
       "        of the identity matrix.\n",
       "        Method 'lm' only provides this information.\n",
       "    ``qtf``\n",
       "        The vector (transpose(q) * fvec).\n",
       "        Method 'lm' only provides this information.\n",
       "\n",
       "    .. versionadded:: 1.9\n",
       "mesg : str (returned only if `full_output` is True)\n",
       "    A string message giving information about the solution.\n",
       "\n",
       "    .. versionadded:: 1.9\n",
       "ier : int (returnned only if `full_output` is True)\n",
       "    An integer flag. If it is equal to 1, 2, 3 or 4, the solution was\n",
       "    found. Otherwise, the solution was not found. In either case, the\n",
       "    optional output variable `mesg` gives more information.\n",
       "\n",
       "    .. versionadded:: 1.9\n",
       "\n",
       "Raises\n",
       "------\n",
       "ValueError\n",
       "    if either `ydata` or `xdata` contain NaNs, or if incompatible options\n",
       "    are used.\n",
       "\n",
       "RuntimeError\n",
       "    if the least-squares minimization fails.\n",
       "\n",
       "OptimizeWarning\n",
       "    if covariance of the parameters can not be estimated.\n",
       "\n",
       "See Also\n",
       "--------\n",
       "least_squares : Minimize the sum of squares of nonlinear functions.\n",
       "scipy.stats.linregress : Calculate a linear least squares regression for\n",
       "                         two sets of measurements.\n",
       "\n",
       "Notes\n",
       "-----\n",
       "Users should ensure that inputs `xdata`, `ydata`, and the output of `f`\n",
       "are ``float64``, or else the optimization may return incorrect results.\n",
       "\n",
       "With ``method='lm'``, the algorithm uses the Levenberg-Marquardt algorithm\n",
       "through `leastsq`. Note that this algorithm can only deal with\n",
       "unconstrained problems.\n",
       "\n",
       "Box constraints can be handled by methods 'trf' and 'dogbox'. Refer to\n",
       "the docstring of `least_squares` for more information.\n",
       "\n",
       "Examples\n",
       "--------\n",
       ">>> import numpy as np\n",
       ">>> import matplotlib.pyplot as plt\n",
       ">>> from scipy.optimize import curve_fit\n",
       "\n",
       ">>> def func(x, a, b, c):\n",
       "...     return a * np.exp(-b * x) + c\n",
       "\n",
       "Define the data to be fit with some noise:\n",
       "\n",
       ">>> xdata = np.linspace(0, 4, 50)\n",
       ">>> y = func(xdata, 2.5, 1.3, 0.5)\n",
       ">>> rng = np.random.default_rng()\n",
       ">>> y_noise = 0.2 * rng.normal(size=xdata.size)\n",
       ">>> ydata = y + y_noise\n",
       ">>> plt.plot(xdata, ydata, 'b-', label='data')\n",
       "\n",
       "Fit for the parameters a, b, c of the function `func`:\n",
       "\n",
       ">>> popt, pcov = curve_fit(func, xdata, ydata)\n",
       ">>> popt\n",
       "array([2.56274217, 1.37268521, 0.47427475])\n",
       ">>> plt.plot(xdata, func(xdata, *popt), 'r-',\n",
       "...          label='fit: a=%5.3f, b=%5.3f, c=%5.3f' % tuple(popt))\n",
       "\n",
       "Constrain the optimization to the region of ``0 <= a <= 3``,\n",
       "``0 <= b <= 1`` and ``0 <= c <= 0.5``:\n",
       "\n",
       ">>> popt, pcov = curve_fit(func, xdata, ydata, bounds=(0, [3., 1., 0.5]))\n",
       ">>> popt\n",
       "array([2.43736712, 1.        , 0.34463856])\n",
       ">>> plt.plot(xdata, func(xdata, *popt), 'g--',\n",
       "...          label='fit: a=%5.3f, b=%5.3f, c=%5.3f' % tuple(popt))\n",
       "\n",
       ">>> plt.xlabel('x')\n",
       ">>> plt.ylabel('y')\n",
       ">>> plt.legend()\n",
       ">>> plt.show()\n",
       "\u001b[0;31mFile:\u001b[0m      ~/anaconda3/lib/python3.11/site-packages/scipy/optimize/_minpack_py.py\n",
       "\u001b[0;31mType:\u001b[0m      function"
      ]
     },
     "metadata": {},
     "output_type": "display_data"
    }
   ],
   "source": [
    "sp.optimize.curve_fit?"
   ]
  },
  {
   "cell_type": "code",
   "execution_count": null,
   "id": "d45491cc-d33a-4bcd-a079-4bf2596098be",
   "metadata": {},
   "outputs": [],
   "source": []
  }
 ],
 "metadata": {
  "kernelspec": {
   "display_name": "Python 3 (ipykernel)",
   "language": "python",
   "name": "python3"
  },
  "language_info": {
   "codemirror_mode": {
    "name": "ipython",
    "version": 3
   },
   "file_extension": ".py",
   "mimetype": "text/x-python",
   "name": "python",
   "nbconvert_exporter": "python",
   "pygments_lexer": "ipython3",
   "version": "3.10.12"
  }
 },
 "nbformat": 4,
 "nbformat_minor": 5
}
