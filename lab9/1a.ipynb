{
 "cells": [
  {
   "cell_type": "code",
   "execution_count": 55,
   "id": "bdb08fe2-24d2-4bbc-9051-dce19714643c",
   "metadata": {
    "tags": []
   },
   "outputs": [],
   "source": [
    "import numpy as np\n",
    "import matplotlib.pyplot as plt\n",
    "import scipy as sp\n",
    "import pandas as pd\n",
    "import csv"
   ]
  },
  {
   "cell_type": "code",
   "execution_count": 56,
   "id": "b382c25c-7885-46c9-a65c-d4b9c168b317",
   "metadata": {
    "tags": []
   },
   "outputs": [],
   "source": [
    "row_start = 14"
   ]
  },
  {
   "cell_type": "code",
   "execution_count": 58,
   "id": "06b53e57-1561-4a3e-8324-77e5dfc8bfa0",
   "metadata": {
    "tags": []
   },
   "outputs": [
    {
     "data": {
      "text/plain": [
       "{'Model': 'MSO2024B',\n",
       " 'Firmware Version': '1.56',\n",
       " 'Point Format': 'Y',\n",
       " 'Horizontal Units': 'S',\n",
       " 'Horizontal Scale': '0.4',\n",
       " 'Sample Interval': '3.2e-05',\n",
       " 'Filter Frequency': '2e+08',\n",
       " 'Record Length': '125000',\n",
       " 'Gating': '0.0% to 100.0%',\n",
       " 'Probe Attenuation': '1',\n",
       " 'Vertical Units': 'V',\n",
       " 'Vertical Offset': '0',\n",
       " 'Vertical Scale': '2',\n",
       " 'Label': ''}"
      ]
     },
     "execution_count": 58,
     "metadata": {},
     "output_type": "execute_result"
    }
   ],
   "source": [
    "metadata = dict()\n",
    "filename = \"T0045ALL.CSV\"\n",
    "with open(filename, newline='') as csvfile:\n",
    "    reader = csv.reader(csvfile)\n",
    "    for (i, row) in enumerate(reader):\n",
    "        if i > row_start: break\n",
    "        if len(row) >= 2: metadata[row[0]] = row[1]\n",
    "metadata"
   ]
  },
  {
   "cell_type": "code",
   "execution_count": 67,
   "id": "7f259980-ff9c-4247-bc08-99d20729b423",
   "metadata": {
    "tags": []
   },
   "outputs": [],
   "source": [
    "vscale = float(metadata[\"Vertical Scale\"])"
   ]
  },
  {
   "cell_type": "code",
   "execution_count": 60,
   "id": "bcf01e51-de68-4d19-9d16-f712f0c50dc5",
   "metadata": {
    "tags": []
   },
   "outputs": [
    {
     "data": {
      "text/html": [
       "<div>\n",
       "<style scoped>\n",
       "    .dataframe tbody tr th:only-of-type {\n",
       "        vertical-align: middle;\n",
       "    }\n",
       "\n",
       "    .dataframe tbody tr th {\n",
       "        vertical-align: top;\n",
       "    }\n",
       "\n",
       "    .dataframe thead th {\n",
       "        text-align: right;\n",
       "    }\n",
       "</style>\n",
       "<table border=\"1\" class=\"dataframe\">\n",
       "  <thead>\n",
       "    <tr style=\"text-align: right;\">\n",
       "      <th></th>\n",
       "      <th>TIME</th>\n",
       "      <th>CH1</th>\n",
       "      <th>CH1 Peak Detect</th>\n",
       "      <th>CH2</th>\n",
       "      <th>CH2 Peak Detect</th>\n",
       "    </tr>\n",
       "  </thead>\n",
       "  <tbody>\n",
       "    <tr>\n",
       "      <th>0</th>\n",
       "      <td>-2.00000</td>\n",
       "      <td>9.92</td>\n",
       "      <td>10.00</td>\n",
       "      <td>1.27</td>\n",
       "      <td>1.31</td>\n",
       "    </tr>\n",
       "    <tr>\n",
       "      <th>1</th>\n",
       "      <td>-1.99997</td>\n",
       "      <td>9.92</td>\n",
       "      <td>9.76</td>\n",
       "      <td>1.27</td>\n",
       "      <td>1.21</td>\n",
       "    </tr>\n",
       "    <tr>\n",
       "      <th>2</th>\n",
       "      <td>-1.99994</td>\n",
       "      <td>9.92</td>\n",
       "      <td>10.00</td>\n",
       "      <td>1.25</td>\n",
       "      <td>1.29</td>\n",
       "    </tr>\n",
       "    <tr>\n",
       "      <th>3</th>\n",
       "      <td>-1.99990</td>\n",
       "      <td>9.92</td>\n",
       "      <td>9.76</td>\n",
       "      <td>1.25</td>\n",
       "      <td>1.21</td>\n",
       "    </tr>\n",
       "    <tr>\n",
       "      <th>4</th>\n",
       "      <td>-1.99987</td>\n",
       "      <td>9.84</td>\n",
       "      <td>10.00</td>\n",
       "      <td>1.25</td>\n",
       "      <td>1.29</td>\n",
       "    </tr>\n",
       "    <tr>\n",
       "      <th>...</th>\n",
       "      <td>...</td>\n",
       "      <td>...</td>\n",
       "      <td>...</td>\n",
       "      <td>...</td>\n",
       "      <td>...</td>\n",
       "    </tr>\n",
       "    <tr>\n",
       "      <th>124995</th>\n",
       "      <td>1.99984</td>\n",
       "      <td>10.00</td>\n",
       "      <td>9.76</td>\n",
       "      <td>1.61</td>\n",
       "      <td>1.55</td>\n",
       "    </tr>\n",
       "    <tr>\n",
       "      <th>124996</th>\n",
       "      <td>1.99987</td>\n",
       "      <td>9.92</td>\n",
       "      <td>10.00</td>\n",
       "      <td>1.61</td>\n",
       "      <td>1.65</td>\n",
       "    </tr>\n",
       "    <tr>\n",
       "      <th>124997</th>\n",
       "      <td>1.99990</td>\n",
       "      <td>9.92</td>\n",
       "      <td>9.76</td>\n",
       "      <td>1.61</td>\n",
       "      <td>1.55</td>\n",
       "    </tr>\n",
       "    <tr>\n",
       "      <th>124998</th>\n",
       "      <td>1.99994</td>\n",
       "      <td>9.92</td>\n",
       "      <td>10.00</td>\n",
       "      <td>1.59</td>\n",
       "      <td>1.63</td>\n",
       "    </tr>\n",
       "    <tr>\n",
       "      <th>124999</th>\n",
       "      <td>1.99997</td>\n",
       "      <td>9.92</td>\n",
       "      <td>9.76</td>\n",
       "      <td>1.59</td>\n",
       "      <td>1.55</td>\n",
       "    </tr>\n",
       "  </tbody>\n",
       "</table>\n",
       "<p>125000 rows × 5 columns</p>\n",
       "</div>"
      ],
      "text/plain": [
       "           TIME    CH1  CH1 Peak Detect   CH2  CH2 Peak Detect\n",
       "0      -2.00000   9.92            10.00  1.27             1.31\n",
       "1      -1.99997   9.92             9.76  1.27             1.21\n",
       "2      -1.99994   9.92            10.00  1.25             1.29\n",
       "3      -1.99990   9.92             9.76  1.25             1.21\n",
       "4      -1.99987   9.84            10.00  1.25             1.29\n",
       "...         ...    ...              ...   ...              ...\n",
       "124995  1.99984  10.00             9.76  1.61             1.55\n",
       "124996  1.99987   9.92            10.00  1.61             1.65\n",
       "124997  1.99990   9.92             9.76  1.61             1.55\n",
       "124998  1.99994   9.92            10.00  1.59             1.63\n",
       "124999  1.99997   9.92             9.76  1.59             1.55\n",
       "\n",
       "[125000 rows x 5 columns]"
      ]
     },
     "execution_count": 60,
     "metadata": {},
     "output_type": "execute_result"
    }
   ],
   "source": [
    "data = pd.read_csv(filename, delimiter=\",\", header=row_start)\n",
    "data"
   ]
  },
  {
   "cell_type": "code",
   "execution_count": 70,
   "id": "00e1247c-4cbb-46cb-85e4-62ffdfda1952",
   "metadata": {
    "tags": []
   },
   "outputs": [
    {
     "data": {
      "text/plain": [
       "Text(0, 0.5, 'Volts')"
      ]
     },
     "execution_count": 70,
     "metadata": {},
     "output_type": "execute_result"
    },
    {
     "data": {
      "image/png": "[encoded data removed]",
      "text/plain": [
       "<Figure size 640x480 with 1 Axes>"
      ]
     },
     "metadata": {},
     "output_type": "display_data"
    }
   ],
   "source": [
    "plt.plot(\n",
    "    data[\"TIME\"], \n",
    "    data[\"CH2\"] * vscale\n",
    ")\n",
    "plt.plot(\n",
    "    data[\"TIME\"], \n",
    "    data[\"CH1\"]\n",
    ")\n",
    "plt.ylabel(\"Volts\")"
   ]
  },
  {
   "cell_type": "code",
   "execution_count": null,
   "id": "6ce485e0-7c94-45dc-809e-04e794b2b82f",
   "metadata": {},
   "outputs": [],
   "source": []
  }
 ],
 "metadata": {
  "kernelspec": {
   "display_name": "Python 3 (ipykernel)",
   "language": "python",
   "name": "python3"
  },
  "language_info": {
   "codemirror_mode": {
    "name": "ipython",
    "version": 3
   },
   "file_extension": ".py",
   "mimetype": "text/x-python",
   "name": "python",
   "nbconvert_exporter": "python",
   "pygments_lexer": "ipython3",
   "version": "3.11.4"
  }
 },
 "nbformat": 4,
 "nbformat_minor": 5
}
