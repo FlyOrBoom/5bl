{
 "cells": [
  {
   "cell_type": "code",
   "execution_count": 8,
   "id": "bdb08fe2-24d2-4bbc-9051-dce19714643c",
   "metadata": {
    "tags": []
   },
   "outputs": [],
   "source": [
    "import numpy as np\n",
    "import matplotlib.pyplot as plt\n",
    "import scipy as sp\n",
    "import pandas as pd\n",
    "import csv"
   ]
  },
  {
   "cell_type": "code",
   "execution_count": 9,
   "id": "b382c25c-7885-46c9-a65c-d4b9c168b317",
   "metadata": {
    "tags": []
   },
   "outputs": [],
   "source": [
    "row_start = 14"
   ]
  },
  {
   "cell_type": "code",
   "execution_count": 54,
   "id": "a128b19c-26f6-4934-9c65-04229ba32698",
   "metadata": {
    "tags": []
   },
   "outputs": [],
   "source": [
    "# metadata = dict()\n",
    "filename = \"1B - Adrian.CSV\"\n",
    "with open(filename, newline='') as csvfile:\n",
    "    reader = csv.reader(csvfile)"
   ]
  },
  {
   "cell_type": "code",
   "execution_count": null,
   "id": "efbb5183-6d07-429d-97d1-d1d2be94d91f",
   "metadata": {},
   "outputs": [],
   "source": []
  },
  {
   "cell_type": "code",
   "execution_count": 55,
   "id": "bcf01e51-de68-4d19-9d16-f712f0c50dc5",
   "metadata": {
    "tags": []
   },
   "outputs": [
    {
     "data": {
      "text/html": [
       "<div>\n",
       "<style scoped>\n",
       "    .dataframe tbody tr th:only-of-type {\n",
       "        vertical-align: middle;\n",
       "    }\n",
       "\n",
       "    .dataframe tbody tr th {\n",
       "        vertical-align: top;\n",
       "    }\n",
       "\n",
       "    .dataframe thead th {\n",
       "        text-align: right;\n",
       "    }\n",
       "</style>\n",
       "<table border=\"1\" class=\"dataframe\">\n",
       "  <thead>\n",
       "    <tr style=\"text-align: right;\">\n",
       "      <th></th>\n",
       "      <th>TIME</th>\n",
       "      <th>CH1</th>\n",
       "      <th>CH1 Peak Detect</th>\n",
       "      <th>CH2</th>\n",
       "      <th>CH2 Peak Detect</th>\n",
       "    </tr>\n",
       "  </thead>\n",
       "  <tbody>\n",
       "    <tr>\n",
       "      <th>0</th>\n",
       "      <td>-2.00000</td>\n",
       "      <td>9.92</td>\n",
       "      <td>10.00</td>\n",
       "      <td>2.93</td>\n",
       "      <td>2.97</td>\n",
       "    </tr>\n",
       "    <tr>\n",
       "      <th>1</th>\n",
       "      <td>-1.99997</td>\n",
       "      <td>9.92</td>\n",
       "      <td>9.76</td>\n",
       "      <td>2.93</td>\n",
       "      <td>2.87</td>\n",
       "    </tr>\n",
       "    <tr>\n",
       "      <th>2</th>\n",
       "      <td>-1.99994</td>\n",
       "      <td>9.92</td>\n",
       "      <td>10.00</td>\n",
       "      <td>2.93</td>\n",
       "      <td>2.97</td>\n",
       "    </tr>\n",
       "    <tr>\n",
       "      <th>3</th>\n",
       "      <td>-1.99990</td>\n",
       "      <td>9.92</td>\n",
       "      <td>9.76</td>\n",
       "      <td>2.93</td>\n",
       "      <td>2.87</td>\n",
       "    </tr>\n",
       "    <tr>\n",
       "      <th>4</th>\n",
       "      <td>-1.99987</td>\n",
       "      <td>9.84</td>\n",
       "      <td>10.00</td>\n",
       "      <td>2.93</td>\n",
       "      <td>2.97</td>\n",
       "    </tr>\n",
       "    <tr>\n",
       "      <th>...</th>\n",
       "      <td>...</td>\n",
       "      <td>...</td>\n",
       "      <td>...</td>\n",
       "      <td>...</td>\n",
       "      <td>...</td>\n",
       "    </tr>\n",
       "    <tr>\n",
       "      <th>124995</th>\n",
       "      <td>1.99984</td>\n",
       "      <td>9.92</td>\n",
       "      <td>9.76</td>\n",
       "      <td>2.83</td>\n",
       "      <td>2.77</td>\n",
       "    </tr>\n",
       "    <tr>\n",
       "      <th>124996</th>\n",
       "      <td>1.99987</td>\n",
       "      <td>9.92</td>\n",
       "      <td>10.00</td>\n",
       "      <td>2.83</td>\n",
       "      <td>2.87</td>\n",
       "    </tr>\n",
       "    <tr>\n",
       "      <th>124997</th>\n",
       "      <td>1.99990</td>\n",
       "      <td>9.92</td>\n",
       "      <td>9.76</td>\n",
       "      <td>2.85</td>\n",
       "      <td>2.79</td>\n",
       "    </tr>\n",
       "    <tr>\n",
       "      <th>124998</th>\n",
       "      <td>1.99994</td>\n",
       "      <td>9.92</td>\n",
       "      <td>10.00</td>\n",
       "      <td>2.81</td>\n",
       "      <td>2.87</td>\n",
       "    </tr>\n",
       "    <tr>\n",
       "      <th>124999</th>\n",
       "      <td>1.99997</td>\n",
       "      <td>10.00</td>\n",
       "      <td>9.76</td>\n",
       "      <td>2.83</td>\n",
       "      <td>2.79</td>\n",
       "    </tr>\n",
       "  </tbody>\n",
       "</table>\n",
       "<p>125000 rows × 5 columns</p>\n",
       "</div>"
      ],
      "text/plain": [
       "           TIME    CH1  CH1 Peak Detect   CH2  CH2 Peak Detect\n",
       "0      -2.00000   9.92            10.00  2.93             2.97\n",
       "1      -1.99997   9.92             9.76  2.93             2.87\n",
       "2      -1.99994   9.92            10.00  2.93             2.97\n",
       "3      -1.99990   9.92             9.76  2.93             2.87\n",
       "4      -1.99987   9.84            10.00  2.93             2.97\n",
       "...         ...    ...              ...   ...              ...\n",
       "124995  1.99984   9.92             9.76  2.83             2.77\n",
       "124996  1.99987   9.92            10.00  2.83             2.87\n",
       "124997  1.99990   9.92             9.76  2.85             2.79\n",
       "124998  1.99994   9.92            10.00  2.81             2.87\n",
       "124999  1.99997  10.00             9.76  2.83             2.79\n",
       "\n",
       "[125000 rows x 5 columns]"
      ]
     },
     "execution_count": 55,
     "metadata": {},
     "output_type": "execute_result"
    }
   ],
   "source": [
    "data = pd.read_csv(filename, delimiter=\",\", header=row_start)\n",
    "data"
   ]
  },
  {
   "cell_type": "code",
   "execution_count": 56,
   "id": "ebcaf12d-427b-4b66-926d-3ff5ff940d32",
   "metadata": {},
   "outputs": [],
   "source": [
    "t = data[\"TIME\"]\n",
    "ch1 = data[\"CH1\"]\n",
    "ch2 = data[\"CH2\"]\n",
    "t = t[ch1 < 1]\n",
    "ch2 = ch2[ch1 < 1]"
   ]
  },
  {
   "cell_type": "code",
   "execution_count": 57,
   "id": "00e1247c-4cbb-46cb-85e4-62ffdfda1952",
   "metadata": {
    "tags": []
   },
   "outputs": [
    {
     "data": {
      "text/plain": [
       "Text(0.5, 0, 'Time (s)')"
      ]
     },
     "execution_count": 57,
     "metadata": {},
     "output_type": "execute_result"
    },
    {
     "data": {
      "image/png": "[encoded data removed]",
      "text/plain": [
       "<Figure size 640x480 with 1 Axes>"
      ]
     },
     "metadata": {},
     "output_type": "display_data"
    }
   ],
   "source": [
    "plt.plot(t, ch2)\n",
    "plt.ylabel(\"Volts (V)\")\n",
    "plt.xlabel(\"Time (s)\")"
   ]
  },
  {
   "cell_type": "code",
   "execution_count": 63,
   "id": "6ce485e0-7c94-45dc-809e-04e794b2b82f",
   "metadata": {},
   "outputs": [
    {
     "name": "stdout",
     "output_type": "stream",
     "text": [
      "-0.3313852618753183 0.39090307522178735 0.697476824674354 4.809197318439695\n"
     ]
    },
    {
     "data": {
      "image/png": "[encoded data removed]",
      "text/plain": [
       "<Figure size 640x480 with 1 Axes>"
      ]
     },
     "metadata": {},
     "output_type": "display_data"
    }
   ],
   "source": [
    "model = lambda t, A, RC, z, B: A * np.log(t/RC+B) + z\n",
    "model2 = lambda t, A, RC, z: A * np.exp(-t/RC) + z\n",
    "[A_model, RC_model, z_model, B_model], cov = sp.optimize.curve_fit(model, t, ch2, p0=[0.3, 1.1, 0.2, 10])\n",
    "[A_model2, RC_model2, z_model2], cov2 = sp.optimize.curve_fit(model2, t, ch2, p0=[0.3, 1.1, 0.2])\n",
    "plt.plot(t, ch2)\n",
    "plt.plot(t, model(t, A_model, RC_model, z_model, B_model))\n",
    "plt.plot(t, model2(t, A_model2, RC_model2, z_model2))\n",
    "print(A_model, RC_model, z_model, B_model)"
   ]
  },
  {
   "cell_type": "code",
   "execution_count": null,
   "id": "f079b279-5242-423e-97e7-131ee5191d82",
   "metadata": {},
   "outputs": [],
   "source": []
  }
 ],
 "metadata": {
  "kernelspec": {
   "display_name": "Python 3 (ipykernel)",
   "language": "python",
   "name": "python3"
  },
  "language_info": {
   "codemirror_mode": {
    "name": "ipython",
    "version": 3
   },
   "file_extension": ".py",
   "mimetype": "text/x-python",
   "name": "python",
   "nbconvert_exporter": "python",
   "pygments_lexer": "ipython3",
   "version": "3.10.12"
  }
 },
 "nbformat": 4,
 "nbformat_minor": 5
}
