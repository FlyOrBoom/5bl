{
 "cells": [
  {
   "cell_type": "code",
   "execution_count": 1,
   "id": "e7daa48b-04e5-461a-a2a0-5538612413db",
   "metadata": {},
   "outputs": [],
   "source": [
    "import numpy as np\n",
    "import scipy as sp\n",
    "import pandas as pd\n",
    "import matplotlib.pyplot as plt"
   ]
  },
  {
   "cell_type": "code",
   "execution_count": 2,
   "id": "3c91b4d8-5474-45ef-976c-afb51938b35e",
   "metadata": {},
   "outputs": [],
   "source": [
    "plt.rcParams['figure.dpi'] = 100"
   ]
  },
  {
   "cell_type": "code",
   "execution_count": 3,
   "id": "2de79b72-5aa5-48c5-83e7-571df14a7c9e",
   "metadata": {},
   "outputs": [
    {
     "data": {
      "text/html": [
       "<div>\n",
       "<style scoped>\n",
       "    .dataframe tbody tr th:only-of-type {\n",
       "        vertical-align: middle;\n",
       "    }\n",
       "\n",
       "    .dataframe tbody tr th {\n",
       "        vertical-align: top;\n",
       "    }\n",
       "\n",
       "    .dataframe thead th {\n",
       "        text-align: right;\n",
       "    }\n",
       "</style>\n",
       "<table border=\"1\" class=\"dataframe\">\n",
       "  <thead>\n",
       "    <tr style=\"text-align: right;\">\n",
       "      <th></th>\n",
       "      <th>n</th>\n",
       "      <th>stretched length (cm)</th>\n",
       "      <th>half-amplitude length (cm)</th>\n",
       "      <th>unstretched length (cm)</th>\n",
       "      <th>mass (g)</th>\n",
       "      <th>frequency (Hz)</th>\n",
       "    </tr>\n",
       "  </thead>\n",
       "  <tbody>\n",
       "    <tr>\n",
       "      <th>0</th>\n",
       "      <td>4</td>\n",
       "      <td>128.00</td>\n",
       "      <td>130.5</td>\n",
       "      <td>119.25</td>\n",
       "      <td>NaN</td>\n",
       "      <td>NaN</td>\n",
       "    </tr>\n",
       "    <tr>\n",
       "      <th>1</th>\n",
       "      <td>3</td>\n",
       "      <td>95.70</td>\n",
       "      <td>99.0</td>\n",
       "      <td>89.55</td>\n",
       "      <td>150.0</td>\n",
       "      <td>30.0</td>\n",
       "    </tr>\n",
       "    <tr>\n",
       "      <th>2</th>\n",
       "      <td>2</td>\n",
       "      <td>65.30</td>\n",
       "      <td>65.0</td>\n",
       "      <td>61.50</td>\n",
       "      <td>NaN</td>\n",
       "      <td>NaN</td>\n",
       "    </tr>\n",
       "    <tr>\n",
       "      <th>3</th>\n",
       "      <td>1</td>\n",
       "      <td>33.25</td>\n",
       "      <td>34.0</td>\n",
       "      <td>30.75</td>\n",
       "      <td>NaN</td>\n",
       "      <td>NaN</td>\n",
       "    </tr>\n",
       "  </tbody>\n",
       "</table>\n",
       "</div>"
      ],
      "text/plain": [
       "   n  stretched length (cm)  half-amplitude length (cm)  \\\n",
       "0  4                 128.00                       130.5   \n",
       "1  3                  95.70                        99.0   \n",
       "2  2                  65.30                        65.0   \n",
       "3  1                  33.25                        34.0   \n",
       "\n",
       "   unstretched length (cm)  mass (g)  frequency (Hz)  \n",
       "0                   119.25       NaN             NaN  \n",
       "1                    89.55     150.0            30.0  \n",
       "2                    61.50       NaN             NaN  \n",
       "3                    30.75       NaN             NaN  "
      ]
     },
     "execution_count": 3,
     "metadata": {},
     "output_type": "execute_result"
    }
   ],
   "source": [
    "df = pd.read_csv(\"3.csv\")\n",
    "df"
   ]
  },
  {
   "cell_type": "code",
   "execution_count": 22,
   "id": "d2c5a99e-48c5-47e5-b7af-28b62c4fd4b3",
   "metadata": {},
   "outputs": [],
   "source": [
    "# String length\n",
    "n = df[\"n\"].to_numpy().astype(int)\n",
    "L = df[\"stretched length (cm)\"].to_numpy()/100\n",
    "dL = np.abs(df[\"half-amplitude length (cm)\"]/100 - L).to_numpy()\n",
    "L0 = df[\"unstretched length (cm)\"].to_numpy()/100\n",
    "\n",
    "# Frequency (Hz)\n",
    "f = 30\n",
    "\n",
    "# Tensioning mass\n",
    "M = 150 / 1000\n",
    "dM = 0.1\n",
    "g = 9.8\n",
    "T = M * g\n",
    "dT = dM * g\n",
    "\n",
    "# Elasticity (/N)\n",
    "gamma = 0.04296842499973986\n",
    "dGamma = 0.001716256634749477"
   ]
  },
  {
   "cell_type": "code",
   "execution_count": 47,
   "id": "3deda1b0-dc41-465d-b7ec-645c8a6257a1",
   "metadata": {},
   "outputs": [
    {
     "data": {
      "text/plain": [
       "(0.004074076392499629, 0.0001743628368603526)"
      ]
     },
     "execution_count": 47,
     "metadata": {},
     "output_type": "execute_result"
    }
   ],
   "source": [
    "def model(n, mu0):\n",
    "        # return (n/(2*f))*np.sqrt(T/mu0)\n",
    "    nn = (4 - n).astype(int)\n",
    "    l0 = L0[nn]\n",
    "    return l0 * (1 + 1/(\n",
    "        ((n/(2*l0*f))**2) /(mu0 * gamma) - 1\n",
    "    ))\n",
    "\n",
    "[fit, cov] = sp.optimize.curve_fit(model, n, L, sigma=dL, p0=[0.00001])\n",
    "[mu0] = fit\n",
    "[[dmu0]] = np.sqrt(cov)\n",
    "mu0, dmu0"
   ]
  },
  {
   "cell_type": "code",
   "execution_count": 53,
   "id": "f817b761-cdc3-48c2-b26c-9ad8e3ba656b",
   "metadata": {},
   "outputs": [],
   "source": [
    "def dmodel(n, mu0):\n",
    "    nn = (4 - n).astype(int)\n",
    "    l0 = L0[nn]\n",
    "    dl0 = dL[nn]\n",
    "    return (n*n - (3600 * l0 * l0 * mu0 * gamma)) * np.sqrt(\n",
    "        (n*n*n*n) * (dl0*dl0) * (\n",
    "            ((n*n) + 3600*l0*l0*gamma*mu0)**2\n",
    "            + 12960000 * (l0**6) * (dmu0*dmu0*gamma*gamma + dGamma*dGamma*mu0*mu0)\n",
    "        ) / ((n*n - 3600*l0*l0*gamma*mu0)**4)\n",
    "    ) / ( l0 * n * n )"
   ]
  },
  {
   "cell_type": "code",
   "execution_count": 63,
   "id": "0cea7264-8c60-4327-a6c6-a718b4a65002",
   "metadata": {},
   "outputs": [
    {
     "data": {
      "image/png": "[encoded data removed]",
      "text/plain": [
       "<Figure size 800x600 with 1 Axes>"
      ]
     },
     "metadata": {
      "needs_background": "light"
     },
     "output_type": "display_data"
    }
   ],
   "source": [
    "plt.rcParams['figure.figsize'] = [8, 6]\n",
    "plt.title(\"String lengths at various resonances\")\n",
    "plt.errorbar(\n",
    "    n, L, yerr = dL,\n",
    "    label=\"Measured length\",\n",
    "    color = \"black\", ecolor=\"black\",\n",
    "    linewidth = 0, elinewidth = 1, capsize=10, markersize = 3,\n",
    "    marker = 'o'\n",
    ")\n",
    "plt.errorbar(\n",
    "    n, model(n,mu0), yerr = model(n,mu0)*dmodel(n, mu0),\n",
    "    label=f\"Fit: $\\mu_0 = {mu0*1000:.3f} \\pm {dmu0*1000:.3f}$ g/m\",\n",
    "    color = \"blue\", ecolor=\"blue\",\n",
    "    linewidth = 0, elinewidth = 1, capsize=10, markersize = 3,\n",
    "    marker = 'o'\n",
    ")\n",
    "\n",
    "plt.legend()\n",
    "plt.xlabel(\"Number of nodes\")\n",
    "plt.ylabel(\"Stretched length (m)\")\n",
    "plt.xlim(0, 5)\n",
    "# plt.ylim(0, 1.6)\n",
    "plt.grid()\n",
    "plt.savefig(\"3.png\")\n",
    "plt.show()"
   ]
  },
  {
   "cell_type": "code",
   "execution_count": 65,
   "id": "1888b9e2-1890-47c5-a5ef-1a3f39f277c9",
   "metadata": {},
   "outputs": [
    {
     "data": {
      "image/png": "[encoded data removed]",
      "text/plain": [
       "<Figure size 800x400 with 1 Axes>"
      ]
     },
     "metadata": {
      "needs_background": "light"
     },
     "output_type": "display_data"
    }
   ],
   "source": [
    "plt.rcParams['figure.figsize'] = [8, 4]\n",
    "uncertainty = np.sqrt( (model(n,mu0)*dmodel(n, mu0))**2 + dL*dL)\n",
    "plt.scatter(n, (L - model(n, mu0))/uncertainty, color=\"black\")\n",
    "# plt.legend()\n",
    "plt.xlabel(\"Number of nodes\")\n",
    "plt.ylabel(\"Normalized residuals (std error)\")\n",
    "plt.xlim(0, 5)\n",
    "plt.ylim(-1, 1)\n",
    "plt.axhline(0, color=\"blue\")\n",
    "plt.grid()\n",
    "plt.savefig(\"3_res.png\")\n",
    "plt.show()"
   ]
  },
  {
   "cell_type": "code",
   "execution_count": 67,
   "id": "273e5e4e-1ffa-498e-8239-d244e4f5c3f1",
   "metadata": {},
   "outputs": [
    {
     "data": {
      "text/plain": [
       "0.15909830946079342"
      ]
     },
     "execution_count": 67,
     "metadata": {},
     "output_type": "execute_result"
    }
   ],
   "source": [
    "dof = 1\n",
    "chi2 = np.sum( ((L - model(n, mu0))/uncertainty)**2 )\n",
    "chi2_reduced = chi2 / ( len(L) - dof )\n",
    "chi2_reduced"
   ]
  },
  {
   "cell_type": "code",
   "execution_count": null,
   "id": "8d305d1e-99ed-4dd4-a4eb-59ff6e8a8a75",
   "metadata": {},
   "outputs": [],
   "source": []
  },
  {
   "cell_type": "code",
   "execution_count": null,
   "id": "a8179d56-53d3-426b-b594-410535cbb930",
   "metadata": {},
   "outputs": [],
   "source": []
  }
 ],
 "metadata": {
  "kernelspec": {
   "display_name": "Python 3 (ipykernel)",
   "language": "python",
   "name": "python3"
  },
  "language_info": {
   "codemirror_mode": {
    "name": "ipython",
    "version": 3
   },
   "file_extension": ".py",
   "mimetype": "text/x-python",
   "name": "python",
   "nbconvert_exporter": "python",
   "pygments_lexer": "ipython3",
   "version": "3.10.12"
  }
 },
 "nbformat": 4,
 "nbformat_minor": 5
}
