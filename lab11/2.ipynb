{
 "cells": [
  {
   "cell_type": "code",
   "execution_count": 2,
   "id": "e7daa48b-04e5-461a-a2a0-5538612413db",
   "metadata": {},
   "outputs": [],
   "source": [
    "import numpy as np\n",
    "import scipy as sp\n",
    "import pandas as pd\n",
    "import matplotlib.pyplot as plt"
   ]
  },
  {
   "cell_type": "code",
   "execution_count": 3,
   "id": "324388e0-0b1b-4d4e-813a-7917c8967b24",
   "metadata": {},
   "outputs": [],
   "source": [
    "plt.rcParams['figure.figsize'] = [8, 6]\n",
    "plt.rcParams['figure.dpi'] = 100"
   ]
  },
  {
   "cell_type": "code",
   "execution_count": 4,
   "id": "2de79b72-5aa5-48c5-83e7-571df14a7c9e",
   "metadata": {},
   "outputs": [
    {
     "data": {
      "text/html": [
       "<div>\n",
       "<style scoped>\n",
       "    .dataframe tbody tr th:only-of-type {\n",
       "        vertical-align: middle;\n",
       "    }\n",
       "\n",
       "    .dataframe tbody tr th {\n",
       "        vertical-align: top;\n",
       "    }\n",
       "\n",
       "    .dataframe thead th {\n",
       "        text-align: right;\n",
       "    }\n",
       "</style>\n",
       "<table border=\"1\" class=\"dataframe\">\n",
       "  <thead>\n",
       "    <tr style=\"text-align: right;\">\n",
       "      <th></th>\n",
       "      <th>n</th>\n",
       "      <th>Estimate (g)</th>\n",
       "      <th>Actual (g)</th>\n",
       "      <th>Half-amplitude (g)</th>\n",
       "    </tr>\n",
       "  </thead>\n",
       "  <tbody>\n",
       "    <tr>\n",
       "      <th>0</th>\n",
       "      <td>2</td>\n",
       "      <td>358</td>\n",
       "      <td>352.5</td>\n",
       "      <td>5.0</td>\n",
       "    </tr>\n",
       "    <tr>\n",
       "      <th>1</th>\n",
       "      <td>3</td>\n",
       "      <td>155</td>\n",
       "      <td>180.0</td>\n",
       "      <td>5.0</td>\n",
       "    </tr>\n",
       "    <tr>\n",
       "      <th>2</th>\n",
       "      <td>4</td>\n",
       "      <td>83</td>\n",
       "      <td>95.0</td>\n",
       "      <td>2.5</td>\n",
       "    </tr>\n",
       "    <tr>\n",
       "      <th>3</th>\n",
       "      <td>5</td>\n",
       "      <td>51</td>\n",
       "      <td>45.0</td>\n",
       "      <td>5.0</td>\n",
       "    </tr>\n",
       "    <tr>\n",
       "      <th>4</th>\n",
       "      <td>6</td>\n",
       "      <td>33</td>\n",
       "      <td>25.0</td>\n",
       "      <td>5.0</td>\n",
       "    </tr>\n",
       "    <tr>\n",
       "      <th>5</th>\n",
       "      <td>7</td>\n",
       "      <td>22</td>\n",
       "      <td>15.0</td>\n",
       "      <td>5.0</td>\n",
       "    </tr>\n",
       "  </tbody>\n",
       "</table>\n",
       "</div>"
      ],
      "text/plain": [
       "   n  Estimate (g)  Actual (g)  Half-amplitude (g)\n",
       "0  2           358       352.5                 5.0\n",
       "1  3           155       180.0                 5.0\n",
       "2  4            83        95.0                 2.5\n",
       "3  5            51        45.0                 5.0\n",
       "4  6            33        25.0                 5.0\n",
       "5  7            22        15.0                 5.0"
      ]
     },
     "execution_count": 4,
     "metadata": {},
     "output_type": "execute_result"
    }
   ],
   "source": [
    "df = pd.read_csv(\"2.csv\")\n",
    "df"
   ]
  },
  {
   "cell_type": "code",
   "execution_count": 5,
   "id": "d2c5a99e-48c5-47e5-b7af-28b62c4fd4b3",
   "metadata": {},
   "outputs": [],
   "source": [
    "n = df[\"n\"].to_numpy()\n",
    "m = df[\"Actual (g)\"].to_numpy()/1000\n",
    "dm = df[\"Half-amplitude (g)\"].to_numpy()/1000"
   ]
  },
  {
   "cell_type": "code",
   "execution_count": 20,
   "id": "4e89adcc-fde2-485d-9c40-301b4ad6f74b",
   "metadata": {},
   "outputs": [],
   "source": [
    "# elasticity (/N)\n",
    "gamma = 0.04296842499973986\n",
    "dGamma = 0.001716256634749477\n",
    "\n",
    "# unstretched string length (m)\n",
    "L0 = 97.5 / 100\n",
    "dL0 = 0.5 / 100\n",
    "\n",
    "# # unstretched mass density (kg/m)\n",
    "# mu0 = 0.044308 * 100/1000\n",
    "# dmu0 = 0.000341 * 100/1000\n",
    "\n",
    "# frequency (Hz)\n",
    "f = 30\n",
    "\n",
    "g = 9.8"
   ]
  },
  {
   "cell_type": "code",
   "execution_count": 23,
   "id": "bd41afbd-0c64-432a-897f-e6464d019795",
   "metadata": {},
   "outputs": [],
   "source": [
    "def model(n, mu0):\n",
    "    return (1/g) / (\n",
    "        (1/mu0) * ( (n / (2 * L0 * f))**2 ) - gamma\n",
    "    )\n",
    "# model(n)"
   ]
  },
  {
   "cell_type": "code",
   "execution_count": 45,
   "id": "7226ea43-2897-4976-be8c-69521835c55a",
   "metadata": {},
   "outputs": [],
   "source": [
    "def alpha_model(n):\n",
    "    return 231.48 * np.sqrt(1.26394e-8 + 3.0686e-9 * (n**4)) / ( (n**2) - 0.651543 )"
   ]
  },
  {
   "cell_type": "code",
   "execution_count": 46,
   "id": "e572c23f-7148-43e4-8d23-e45827fe3131",
   "metadata": {},
   "outputs": [
    {
     "data": {
      "text/plain": [
       "(0.003618308365926642, 0.00013758698760589315)"
      ]
     },
     "execution_count": 46,
     "metadata": {},
     "output_type": "execute_result"
    }
   ],
   "source": [
    "[fit, cov] = sp.optimize.curve_fit(model, n, m, p0=[0.00001])\n",
    "[mu0] = fit\n",
    "[[dmu0]] = np.sqrt(cov)\n",
    "mu0, dmu0"
   ]
  },
  {
   "cell_type": "code",
   "execution_count": 49,
   "id": "b6b7eb45-30e9-4195-80f8-b006c6240bff",
   "metadata": {},
   "outputs": [
    {
     "data": {
      "image/png": "[encoded data removed]",
      "text/plain": [
       "<Figure size 800x600 with 1 Axes>"
      ]
     },
     "metadata": {
      "needs_background": "light"
     },
     "output_type": "display_data"
    }
   ],
   "source": [
    "plt.rcParams['figure.figsize'] = [8, 6]\n",
    "plt.title(\"Tensioning mass v.s. number of nodes\")\n",
    "plt.errorbar(\n",
    "    n, m*1000, yerr = dm*1000,\n",
    "    label=\"Measured mass\",\n",
    "    color = \"black\", ecolor=\"black\",\n",
    "    linewidth = 0, elinewidth = 1, capsize=10, markersize = 3,\n",
    "    marker = 'o'\n",
    ")\n",
    "plt.errorbar(\n",
    "    n, model(n, mu0)*1000, yerr = alpha_model(n)*model(n, mu0)*1000,\n",
    "    label=f\"Fit: $\\mu_0 = {mu0*1000:.3f} \\pm {dmu0*1000:.3f}$ g/m\",\n",
    "    color = \"blue\", ecolor=\"blue\",\n",
    "    linewidth = 0, elinewidth = 1, capsize=10, markersize = 3,\n",
    "    marker = 'o'\n",
    ")\n",
    "plt.xlabel(\"Number of nodes\")\n",
    "plt.ylabel(\"Mass (g)\")\n",
    "plt.xlim(1,8)\n",
    "plt.ylim(0,500)\n",
    "plt.grid()\n",
    "\n",
    "plt.legend()\n",
    "# plt.xlim(0, 1.5)\n",
    "# plt.ylim(0, 1.5)\n",
    "plt.savefig(\"2.png\")\n",
    "plt.show()"
   ]
  },
  {
   "cell_type": "code",
   "execution_count": 50,
   "id": "ea5e0c34-3ef9-4442-a5f0-74ac960370e6",
   "metadata": {},
   "outputs": [
    {
     "data": {
      "image/png": "[encoded data removed]",
      "text/plain": [
       "<Figure size 800x400 with 1 Axes>"
      ]
     },
     "metadata": {
      "needs_background": "light"
     },
     "output_type": "display_data"
    }
   ],
   "source": [
    "plt.rcParams['figure.figsize'] = [8, 4]\n",
    "uncertainty = np.sqrt(dm**2 + (alpha_model(n) * model(n, mu0))**2)\n",
    "plt.scatter(n, (m - model(n, mu0))/uncertainty, color=\"black\")\n",
    "# plt.legend()\n",
    "plt.xlabel(\"Number of nodes\")\n",
    "plt.ylabel(\"Normalized residuals (std error)\")\n",
    "plt.xlim(1, 8)\n",
    "plt.ylim(-10, 10)\n",
    "plt.axhline(0, color=\"blue\")\n",
    "plt.grid()\n",
    "plt.savefig(\"2_res.png\")\n",
    "plt.show()"
   ]
  },
  {
   "cell_type": "code",
   "execution_count": 53,
   "id": "9bc29d2e-7a17-4e23-aeec-f338cc360545",
   "metadata": {},
   "outputs": [
    {
     "data": {
      "text/plain": [
       "13.836514013522498"
      ]
     },
     "execution_count": 53,
     "metadata": {},
     "output_type": "execute_result"
    }
   ],
   "source": [
    "dof = 1\n",
    "chi2 = np.sum( ((m - model(n, mu0))/uncertainty)**2 )\n",
    "chi2_reduced = chi2 / ( len(m) - dof )\n",
    "chi2_reduced"
   ]
  },
  {
   "cell_type": "code",
   "execution_count": null,
   "id": "5bb0dc08-7ebf-4378-b1b0-d60d100cde0d",
   "metadata": {},
   "outputs": [],
   "source": []
  }
 ],
 "metadata": {
  "kernelspec": {
   "display_name": "Python 3 (ipykernel)",
   "language": "python",
   "name": "python3"
  },
  "language_info": {
   "codemirror_mode": {
    "name": "ipython",
    "version": 3
   },
   "file_extension": ".py",
   "mimetype": "text/x-python",
   "name": "python",
   "nbconvert_exporter": "python",
   "pygments_lexer": "ipython3",
   "version": "3.10.12"
  }
 },
 "nbformat": 4,
 "nbformat_minor": 5
}
